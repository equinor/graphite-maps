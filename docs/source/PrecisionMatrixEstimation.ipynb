{
 "cells": [
  {
   "cell_type": "code",
   "execution_count": 2,
   "id": "c93b8cf3-3476-4e6d-9cc4-88bc045f71b1",
   "metadata": {},
   "outputs": [],
   "source": [
    "import numpy as np\n",
    "np.set_printoptions(precision=3, suppress=True)\n",
    "import scipy.sparse as sp\n",
    "from scipy.stats import norm\n",
    "from graphite_maps.precision_estimation import fit_precision_cholesky, precision_to_graph"
   ]
  },
  {
   "cell_type": "markdown",
   "id": "7d8bb185-854a-4dc5-b8a3-886aa165f5c6",
   "metadata": {},
   "source": [
    "Set up a simple AR-1 example to test `graphite_maps` functionality.\n",
    "$$u_t = \\phi u_{t-1} + \\epsilon,~~\n",
    " \\epsilon\\sim N(0,1) $$"
   ]
  },
  {
   "cell_type": "code",
   "execution_count": 3,
   "id": "a803c5de-115c-416f-b074-3bef0d8ec96f",
   "metadata": {},
   "outputs": [],
   "source": [
    "# Define parameters\n",
    "n = 1000  # Sample size\n",
    "p = 1000   # Dimension\n",
    "phi = 0.6"
   ]
  },
  {
   "cell_type": "code",
   "execution_count": 4,
   "id": "2453f73c-781a-49bc-a38b-e6bfa8cf3b63",
   "metadata": {},
   "outputs": [],
   "source": [
    "# Simulate data\n",
    "def rar1(T, phi):\n",
    "    \"\"\"simulate auto-regressive-1.\n",
    "    The first element is simulated from stationary distribution.\n",
    "    \"\"\"\n",
    "    x = np.empty([T])\n",
    "    x[0] = np.random.normal(0, 1 / np.sqrt(1 - phi**2))\n",
    "    for i in range(1, T):\n",
    "        x[i] = phi * x[i - 1] + np.random.normal(0, 1)\n",
    "    return x\n",
    "\n",
    "np.random.seed(42)\n",
    "U = np.array([rar1(T=p, phi=phi) for _ in range(n)])"
   ]
  },
  {
   "cell_type": "markdown",
   "id": "e14a705e-9d5e-4882-86b7-de8ca2e963da",
   "metadata": {},
   "source": [
    "We need the graph of conditional independence in $u$, \n",
    "thus create precision (which is conceptually unknown) and find graph from this (conceptually already known)."
   ]
  },
  {
   "cell_type": "code",
   "execution_count": 5,
   "id": "ceef428d-53da-4138-88bd-a9ee8bd74745",
   "metadata": {},
   "outputs": [],
   "source": [
    "# create AR-1 precision matrix\n",
    "prec = sp.diags(\n",
    "    [np.repeat(-phi, p-1), np.concatenate(([1.0], np.repeat(1.0+phi**2, p-2), [1.0])), np.repeat(-phi, p-1)], \n",
    "    [-1,0,1], shape=(p, p), \n",
    "    format='csc'\n",
    ")\n",
    "\n",
    "Graph_u = precision_to_graph(prec)"
   ]
  },
  {
   "cell_type": "markdown",
   "id": "64ed36a6-148f-4ef2-9284-0085aef2df77",
   "metadata": {},
   "source": [
    "Now use `graphite_maps` to estimate the precision w.r.t. $G_u$"
   ]
  },
  {
   "cell_type": "code",
   "execution_count": 6,
   "id": "6c483967-b0eb-4786-bc89-3c879fc10d8c",
   "metadata": {},
   "outputs": [
    {
     "name": "stdout",
     "output_type": "stream",
     "text": [
      "Parameters in precision: 1999\n",
      "Parameters in Cholesky factor: 1999\n",
      "Starting statistical fitting of precision\n"
     ]
    },
    {
     "name": "stderr",
     "output_type": "stream",
     "text": [
      "Learning precision Cholesky factor row-by-row: 100%|███████████████████████████████████████████████████████████████████████████████████████████████████████████████████████████| 1000/1000 [00:02<00:00, 486.88it/s]"
     ]
    },
    {
     "name": "stdout",
     "output_type": "stream",
     "text": [
      "Precision has log-determinant: 0.8304692396087653\n"
     ]
    },
    {
     "name": "stderr",
     "output_type": "stream",
     "text": [
      "\n"
     ]
    }
   ],
   "source": [
    "prec_est = fit_precision_cholesky(U, Graph_u, verbose_level=2)"
   ]
  },
  {
   "cell_type": "markdown",
   "id": "1ff4a132-0339-4bb2-8720-d4df39874bcb",
   "metadata": {},
   "source": [
    "Inspect that the result seem to converge (no values should be too large here)."
   ]
  },
  {
   "cell_type": "code",
   "execution_count": 7,
   "id": "4a9d345b-dd19-4132-873e-cdc36e6af335",
   "metadata": {},
   "outputs": [
    {
     "name": "stdout",
     "output_type": "stream",
     "text": [
      "[[-0.005 -0.012  0.    ...  0.     0.     0.   ]\n",
      " [-0.012 -0.028  0.096 ...  0.     0.     0.   ]\n",
      " [ 0.     0.096 -0.162 ...  0.     0.     0.   ]\n",
      " ...\n",
      " [ 0.     0.     0.    ...  0.012  0.012  0.   ]\n",
      " [ 0.     0.     0.    ...  0.012 -0.023 -0.006]\n",
      " [ 0.     0.     0.    ...  0.    -0.006  0.035]]\n",
      "0.2178122656748398\n"
     ]
    }
   ],
   "source": [
    "print(prec_est.A - prec.A)\n",
    "print(np.max(np.abs(prec_est-prec)))"
   ]
  },
  {
   "cell_type": "code",
   "execution_count": null,
   "id": "096f995e-66b5-43bf-a84c-68a97aaa7e2b",
   "metadata": {},
   "outputs": [],
   "source": []
  }
 ],
 "metadata": {
  "kernelspec": {
   "display_name": "Python 3 (ipykernel)",
   "language": "python",
   "name": "python3"
  },
  "language_info": {
   "codemirror_mode": {
    "name": "ipython",
    "version": 3
   },
   "file_extension": ".py",
   "mimetype": "text/x-python",
   "name": "python",
   "nbconvert_exporter": "python",
   "pygments_lexer": "ipython3",
   "version": "3.11.7"
  }
 },
 "nbformat": 4,
 "nbformat_minor": 5
}
