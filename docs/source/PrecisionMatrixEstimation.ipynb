{
 "cells": [
  {
   "cell_type": "code",
   "execution_count": 681,
   "id": "c93b8cf3-3476-4e6d-9cc4-88bc045f71b1",
   "metadata": {},
   "outputs": [],
   "source": [
    "import numpy as np\n",
    "np.set_printoptions(precision=3, suppress=True)\n",
    "import scipy as sp\n",
    "from scipy.stats import norm\n",
    "import networkx as nx\n",
    "\n",
    "from graphite_maps.precision_estimation import fit_precision_cholesky, precision_to_graph"
   ]
  },
  {
   "cell_type": "markdown",
   "id": "7d8bb185-854a-4dc5-b8a3-886aa165f5c6",
   "metadata": {},
   "source": [
    "Set up a simple AR-1 example to test `graphite_maps` functionality.\n",
    "$$u_t = \\phi u_{t-1} + \\epsilon,~~\n",
    " \\epsilon\\sim N(0,1) $$"
   ]
  },
  {
   "cell_type": "code",
   "execution_count": 723,
   "id": "a803c5de-115c-416f-b074-3bef0d8ec96f",
   "metadata": {},
   "outputs": [],
   "source": [
    "# Define parameters\n",
    "n = 100  # Sample size\n",
    "p = 5   # Dimension\n",
    "phi = 0.99"
   ]
  },
  {
   "cell_type": "code",
   "execution_count": 724,
   "id": "2453f73c-781a-49bc-a38b-e6bfa8cf3b63",
   "metadata": {},
   "outputs": [],
   "source": [
    "# Simulate data\n",
    "def rar1(T, phi):\n",
    "    \"\"\"simulate auto-regressive-1.\n",
    "    The first element is simulated from stationary distribution.\n",
    "    \"\"\"\n",
    "    x = np.empty([T])\n",
    "    x[0] = np.random.normal(0, 1 / np.sqrt(1 - phi**2))\n",
    "    for i in range(1, T):\n",
    "        x[i] = phi * x[i - 1] + np.random.normal(0, 1)\n",
    "    return x\n",
    "\n",
    "np.random.seed(42)\n",
    "U = np.array([rar1(T=p, phi=phi) for _ in range(n)])"
   ]
  },
  {
   "cell_type": "markdown",
   "id": "e14a705e-9d5e-4882-86b7-de8ca2e963da",
   "metadata": {},
   "source": [
    "We need the graph of conditional independence in $u$, \n",
    "thus create precision (which is conceptually unknown) and find graph from this (conceptually already known)."
   ]
  },
  {
   "cell_type": "code",
   "execution_count": 725,
   "id": "ceef428d-53da-4138-88bd-a9ee8bd74745",
   "metadata": {},
   "outputs": [],
   "source": [
    "# create AR-1 precision matrix\n",
    "prec = sp.sparse.diags(\n",
    "    [np.repeat(-phi, p-1), np.concatenate(([1.0], np.repeat(1.0+phi**2, p-2), [1.0])), np.repeat(-phi, p-1)], \n",
    "    [-1,0,1], shape=(p, p), \n",
    "    format='csc'\n",
    ")\n",
    "\n",
    "Graph_u = precision_to_graph(prec)"
   ]
  },
  {
   "cell_type": "markdown",
   "id": "64ed36a6-148f-4ef2-9284-0085aef2df77",
   "metadata": {},
   "source": [
    "Now use `graphite_maps` to estimate the precision w.r.t. $G_u$"
   ]
  },
  {
   "cell_type": "code",
   "execution_count": 726,
   "id": "6c483967-b0eb-4786-bc89-3c879fc10d8c",
   "metadata": {},
   "outputs": [
    {
     "name": "stdout",
     "output_type": "stream",
     "text": [
      "max degree of graph is: 4\n",
      "Permutation optimization took 0.00010013580322265625 seconds\n",
      "Parameters in precision: 9\n",
      "Parameters in Cholesky factor: 4\n",
      "Starting statistical fitting of precision\n"
     ]
    },
    {
     "name": "stderr",
     "output_type": "stream",
     "text": [
      "Learning precision Cholesky factor row-by-row: 100%|█████████████████████████████████████████████████████████████████████████████████████████████████████████████████████████████████| 5/5 [00:00<00:00, 464.26it/s]"
     ]
    },
    {
     "name": "stdout",
     "output_type": "stream",
     "text": [
      "Precision has log-determinant: -3.788664255735809\n"
     ]
    },
    {
     "name": "stderr",
     "output_type": "stream",
     "text": [
      "\n"
     ]
    }
   ],
   "source": [
    "prec_est, Graph_C, perm_compose, P_rev, P_order = fit_precision_cholesky(U, Graph_u, verbose_level=2, ordering_method=\"natural\")"
   ]
  },
  {
   "cell_type": "markdown",
   "id": "1ff4a132-0339-4bb2-8720-d4df39874bcb",
   "metadata": {},
   "source": [
    "Inspect that the result seem to converge (no values should be too large here)."
   ]
  },
  {
   "cell_type": "code",
   "execution_count": 727,
   "id": "4a9d345b-dd19-4132-873e-cdc36e6af335",
   "metadata": {},
   "outputs": [
    {
     "name": "stdout",
     "output_type": "stream",
     "text": [
      "[[-0.024  0.004  0.     0.     0.   ]\n",
      " [ 0.004  0.041 -0.008  0.     0.   ]\n",
      " [ 0.    -0.008  0.008 -0.027  0.   ]\n",
      " [ 0.     0.    -0.027 -0.128  0.158]\n",
      " [ 0.     0.     0.     0.158 -0.144]]\n",
      "0.15775250562771992\n"
     ]
    }
   ],
   "source": [
    "print(prec_est.A - prec.A)\n",
    "print(np.max(np.abs(prec_est-prec)))"
   ]
  },
  {
   "cell_type": "code",
   "execution_count": 728,
   "id": "c83ed769-29d6-48d4-9535-2c605086dada",
   "metadata": {},
   "outputs": [
    {
     "name": "stdout",
     "output_type": "stream",
     "text": [
      "[[ -9.98  -10.92  -10.395 -10.886 -11.469]\n",
      " [-10.92  -11.837 -11.306 -11.782 -12.349]\n",
      " [-10.395 -11.306 -10.778 -11.275 -11.865]\n",
      " [-10.886 -11.782 -11.275 -11.793 -12.378]\n",
      " [-11.469 -12.349 -11.865 -12.378 -12.769]]\n",
      "12.7690460005634\n"
     ]
    }
   ],
   "source": [
    "print(np.linalg.inv(prec_est.A) - np.linalg.inv(prec.A))\n",
    "print(np.max(np.abs(np.linalg.inv(prec_est.A)-np.linalg.inv(prec.A))))"
   ]
  },
  {
   "cell_type": "code",
   "execution_count": 729,
   "id": "ee1e386d-defb-4a6c-ad3a-881c456b3f93",
   "metadata": {},
   "outputs": [
    {
     "name": "stdout",
     "output_type": "stream",
     "text": [
      "[4 3 2 1 0]\n",
      "[[0. 0. 0. 0. 1.]\n",
      " [0. 0. 0. 1. 0.]\n",
      " [0. 0. 1. 0. 0.]\n",
      " [0. 1. 0. 0. 0.]\n",
      " [1. 0. 0. 0. 0.]]\n",
      "[[1. 0. 0. 0. 0.]\n",
      " [0. 1. 0. 0. 0.]\n",
      " [0. 0. 1. 0. 0.]\n",
      " [0. 0. 0. 1. 0.]\n",
      " [0. 0. 0. 0. 1.]]\n"
     ]
    },
    {
     "data": {
      "image/png": "[encoded data removed]",
      "text/plain": [
       "<Figure size 640x480 with 1 Axes>"
      ]
     },
     "metadata": {},
     "output_type": "display_data"
    }
   ],
   "source": [
    "nx.draw(Graph_C)\n",
    "print(perm_compose)\n",
    "print(P_rev.A)\n",
    "print(P_order.A)"
   ]
  },
  {
   "cell_type": "markdown",
   "id": "a778ccf7-6e65-440f-8618-c14d0139f63e",
   "metadata": {},
   "source": [
    "# Using regression"
   ]
  },
  {
   "cell_type": "code",
   "execution_count": 730,
   "id": "779610f6-b3e5-4ca9-b26b-439e84566b9f",
   "metadata": {},
   "outputs": [
    {
     "data": {
      "text/plain": [
       "array([[50.251, 49.749, 49.251, 48.759, 48.271],\n",
       "       [49.749, 50.251, 49.749, 49.251, 48.759],\n",
       "       [49.251, 49.749, 50.251, 49.749, 49.251],\n",
       "       [48.759, 49.251, 49.749, 50.251, 49.749],\n",
       "       [48.271, 48.759, 49.251, 49.749, 50.251]])"
      ]
     },
     "execution_count": 730,
     "metadata": {},
     "output_type": "execute_result"
    }
   ],
   "source": [
    "np.linalg.inv(prec.A)"
   ]
  },
  {
   "cell_type": "code",
   "execution_count": 731,
   "id": "9176f0a8-aaf7-47ae-aa24-b2c07cae4914",
   "metadata": {},
   "outputs": [
    {
     "data": {
      "text/plain": [
       "array([[ 1.  , -0.99,  0.  ,  0.  ,  0.  ],\n",
       "       [-0.99,  1.98, -0.99,  0.  ,  0.  ],\n",
       "       [ 0.  , -0.99,  1.98, -0.99,  0.  ],\n",
       "       [ 0.  ,  0.  , -0.99,  1.98, -0.99],\n",
       "       [ 0.  ,  0.  ,  0.  , -0.99,  1.  ]])"
      ]
     },
     "execution_count": 731,
     "metadata": {},
     "output_type": "execute_result"
    }
   ],
   "source": [
    "prec.A"
   ]
  },
  {
   "cell_type": "code",
   "execution_count": 732,
   "id": "b12921cc-3523-40fe-84eb-39436290402e",
   "metadata": {},
   "outputs": [
    {
     "data": {
      "text/plain": [
       "array([[ 0.976, -0.986,  0.   ,  0.   ,  0.   ],\n",
       "       [-0.986,  2.021, -0.998,  0.   ,  0.   ],\n",
       "       [ 0.   , -0.998,  1.988, -1.017,  0.   ],\n",
       "       [ 0.   ,  0.   , -1.017,  1.852, -0.832],\n",
       "       [ 0.   ,  0.   ,  0.   , -0.832,  0.856]])"
      ]
     },
     "execution_count": 732,
     "metadata": {},
     "output_type": "execute_result"
    }
   ],
   "source": [
    "prec_est.A"
   ]
  },
  {
   "cell_type": "code",
   "execution_count": 733,
   "id": "c7dcad9a-cfa6-4e8b-ac62-98c84a3bb661",
   "metadata": {},
   "outputs": [
    {
     "data": {
      "text/plain": [
       "array([[1.98, 0.99],\n",
       "       [0.99, 1.  ]])"
      ]
     },
     "execution_count": 733,
     "metadata": {},
     "output_type": "execute_result"
    }
   ],
   "source": [
    "np.linalg.inv(prec.A[np.ix_([0,1],[0,1])])"
   ]
  },
  {
   "cell_type": "code",
   "execution_count": 734,
   "id": "eab93d52-5c2a-4298-872c-39fcb59fb5af",
   "metadata": {},
   "outputs": [],
   "source": [
    "def beta_x(x, y, z, z_ne_x, z_ne_y):\n",
    "    cov_z = np.cov(z, rowvar=False)\n",
    "    cov_xy\n",
    "    "
   ]
  },
  {
   "cell_type": "code",
   "execution_count": 735,
   "id": "3598d635-2804-4463-9134-6d47a8386519",
   "metadata": {},
   "outputs": [
    {
     "name": "stderr",
     "output_type": "stream",
     "text": [
      "  0%|                                                                                                                                                                                         | 0/5 [00:00<?, ?it/s]/var/folders/cc/tr9zz8jx42d69801p14v77l00000gp/T/ipykernel_2221/1819643147.py:46: DeprecationWarning: Conversion of an array with ndim > 0 to a scalar is deprecated, and will error in future. Ensure you extract a single element from your array before performing this operation. (Deprecated NumPy 1.25.)\n",
      "  beta_i[iter] = beta_ij * beta_nej_dict[ne_ij[iter]]\n",
      "/var/folders/cc/tr9zz8jx42d69801p14v77l00000gp/T/ipykernel_2221/1819643147.py:54: DeprecationWarning: Conversion of an array with ndim > 0 to a scalar is deprecated, and will error in future. Ensure you extract a single element from your array before performing this operation. (Deprecated NumPy 1.25.)\n",
      "  beta_j[iter] = beta_ji * beta_nei_dict[ne_ij[iter]]\n",
      "100%|███████████████████████████████████████████████████████████████████████████████████████████████████████████████████████████████████████████████████████████████████████████████| 5/5 [00:00<00:00, 1119.32it/s]"
     ]
    },
    {
     "name": "stdout",
     "output_type": "stream",
     "text": [
      "prec i=0: 1.0120581523160261\n",
      "printing... i=0  and k=2 \n",
      "\n",
      "[1.012]\n",
      "0.9748787327516926\n",
      "0.9864014001185692\n",
      "stopped...\n",
      "\n",
      "ne i=0 j=1: [2]\n",
      "beta i=0: [0.984]\n",
      "beta i=0 direct: [0.984]\n",
      "beta j=1: [0.975]\n",
      "beta i=1 direct: [0.975]\n",
      "[[ 1.012 -1.168  0.     0.     0.   ]\n",
      " [-1.168  0.     0.     0.     0.   ]\n",
      " [ 0.     0.     0.     0.     0.   ]\n",
      " [ 0.     0.     0.     0.     0.   ]\n",
      " [ 0.     0.     0.     0.     0.   ]]\n",
      "prec i=1: 2.3907118196618202\n",
      "[[ 1.012 -1.168  0.     0.     0.   ]\n",
      " [-1.168  2.391  0.     0.     0.   ]\n",
      " [ 0.     0.     0.     0.     0.   ]\n",
      " [ 0.     0.     0.     0.     0.   ]\n",
      " [ 0.     0.     0.     0.     0.   ]]\n",
      "printing... i=1  and k=3 \n",
      "\n",
      "[0.975]\n",
      "1.0014396849938432\n",
      "0.976282251034052\n",
      "stopped...\n",
      "\n",
      "ne i=1 j=2: [0, 3]\n",
      "beta i=1: [0.637 0.349]\n",
      "beta i=1 direct: [0.637 0.349]\n",
      "beta j=2: [0.31  0.697]\n",
      "beta i=2 direct: [0.31  0.697]\n",
      "[[ 1.012 -1.168  0.     0.     0.   ]\n",
      " [-1.168  2.391 -1.172  0.     0.   ]\n",
      " [ 0.    -1.172  0.     0.     0.   ]\n",
      " [ 0.     0.     0.     0.     0.   ]\n",
      " [ 0.     0.     0.     0.     0.   ]]\n",
      "prec i=2: 2.1437660919469237\n",
      "[[ 1.012 -1.168  0.     0.     0.   ]\n",
      " [-1.168  2.391 -1.172  0.     0.   ]\n",
      " [ 0.    -1.172  2.144  0.     0.   ]\n",
      " [ 0.     0.     0.     0.     0.   ]\n",
      " [ 0.     0.     0.     0.     0.   ]]\n",
      "printing... i=2  and k=4 \n",
      "\n",
      "[1.001]\n",
      "0.9980973583360765\n",
      "0.9995343041252674\n",
      "stopped...\n",
      "\n",
      "ne i=2 j=3: [1, 4]\n",
      "beta i=2: [0.692 0.327]\n",
      "beta i=2 direct: [0.692 0.327]\n",
      "beta j=3: [0.388 0.621]\n",
      "beta i=3 direct: [0.388 0.621]\n",
      "[[ 1.012 -1.168  0.     0.     0.   ]\n",
      " [-1.168  2.391 -1.172  0.     0.   ]\n",
      " [ 0.    -1.172  2.144 -1.059  0.   ]\n",
      " [ 0.     0.    -1.059  0.     0.   ]\n",
      " [ 0.     0.     0.     0.     0.   ]]\n",
      "prec i=3: 1.9734734087130268\n",
      "[[ 1.012 -1.168  0.     0.     0.   ]\n",
      " [-1.168  2.391 -1.172  0.     0.   ]\n",
      " [ 0.    -1.172  2.144 -1.059  0.   ]\n",
      " [ 0.     0.    -1.059  1.973  0.   ]\n",
      " [ 0.     0.     0.     0.     0.   ]]\n",
      "ne i=3 j=4: [2]\n",
      "beta i=3: [0.975]\n",
      "beta i=3 direct: [0.975]\n",
      "beta j=4: [0.947]\n",
      "beta i=4 direct: [0.947]\n",
      "[[ 1.012 -1.168  0.     0.     0.   ]\n",
      " [-1.168  2.391 -1.172  0.     0.   ]\n",
      " [ 0.    -1.172  2.144 -1.059  0.   ]\n",
      " [ 0.     0.    -1.059  1.973 -0.879]\n",
      " [ 0.     0.     0.    -0.879  0.   ]]\n",
      "prec i=4: 0.8789397854172023\n",
      "[[ 1.012 -1.168  0.     0.     0.   ]\n",
      " [-1.168  2.391 -1.172  0.     0.   ]\n",
      " [ 0.    -1.172  2.144 -1.059  0.   ]\n",
      " [ 0.     0.    -1.059  1.973 -0.879]\n",
      " [ 0.     0.     0.    -0.879  0.879]]\n",
      "[[ 1.012 -1.168  0.     0.     0.   ]\n",
      " [-1.168  2.391 -1.172  0.     0.   ]\n",
      " [ 0.    -1.172  2.144 -1.059  0.   ]\n",
      " [ 0.     0.    -1.059  1.973 -0.879]\n",
      " [ 0.     0.     0.    -0.879  0.879]]\n"
     ]
    },
    {
     "name": "stderr",
     "output_type": "stream",
     "text": [
      "\n"
     ]
    }
   ],
   "source": [
    "from tqdm import tqdm\n",
    "G = Graph_u\n",
    "G.remove_edges_from(nx.selfloop_edges(G))\n",
    "p = G.number_of_nodes()\n",
    "prec_full = sp.sparse.lil_matrix((p,p))\n",
    "    \n",
    "for i in tqdm(range(p)):\n",
    "    ne_i = set(G.neighbors(i))\n",
    "    U_sub_i = U[:,list(ne_i)]\n",
    "    beta_i, *_ = np.linalg.lstsq(U_sub_i, U[:,i], rcond=None)\n",
    "    e_i = U[:,i] - U_sub_i @ beta_i\n",
    "    cov_i = np.cov(e_i, rowvar=False)\n",
    "    prec_ii = 1/cov_i\n",
    "    print(f\"prec i={i}: {prec_ii}\")\n",
    "    prec_full[i,i] = prec_ii\n",
    "    for j in ne_i:\n",
    "        if j > i:\n",
    "            ne_i = set(G.neighbors(i))\n",
    "            ne_j = set(G.neighbors(j))\n",
    "            ne_i.remove(j)\n",
    "            ne_j.remove(i)\n",
    "            \n",
    "            Z_nei = U[:,list(ne_i)]\n",
    "            Z_nej = U[:,list(ne_j)]\n",
    "\n",
    "            beta_nei, *_ = np.linalg.lstsq(Z_nei, U[:,i], rcond=None)\n",
    "            beta_nej, *_ = np.linalg.lstsq(Z_nej, U[:,j], rcond=None)\n",
    "            beta_ij, *_ = np.linalg.lstsq(U[:,j][:, np.newaxis] , U[:,i], rcond=None)\n",
    "            beta_ji, *_ = np.linalg.lstsq(U[:,i][:, np.newaxis] , U[:,j], rcond=None)\n",
    "            # lookups\n",
    "            beta_nei_dict = dict(zip(ne_i, beta_nei))\n",
    "            beta_nej_dict = dict(zip(ne_j, beta_nej))\n",
    "            \n",
    "            \n",
    "\n",
    "            ne_ij = list(ne_i.union(ne_j))\n",
    "\n",
    "            beta_i, beta_j = np.zeros(len(ne_ij)), np.zeros(len(ne_ij))\n",
    "\n",
    "            for iter in range(len(ne_ij)):\n",
    "                if ne_ij[iter] not in ne_i:\n",
    "                    # find beta through regression on j\n",
    "                    print(f\"printing... i={i}  and k={ne_ij[iter]} \\n\")\n",
    "                    print(beta_ij)\n",
    "                    print(beta_nej_dict[ne_ij[iter]])\n",
    "                    beta_i[iter] = beta_ij * beta_nej_dict[ne_ij[iter]]\n",
    "                    print(beta_i[iter])\n",
    "                    print(\"stopped...\\n\")\n",
    "                else:\n",
    "                    beta_i[iter] = beta_nei_dict[ne_ij[iter]]\n",
    "\n",
    "                if ne_ij[iter] not in ne_j:\n",
    "                    # find beta through regression on i\n",
    "                    beta_j[iter] = beta_ji * beta_nei_dict[ne_ij[iter]]\n",
    "                else:\n",
    "                    beta_j[iter] = beta_nej_dict[ne_ij[iter]]\n",
    "            \n",
    "            #ne_ij = ne_i.union(ne_j)\n",
    "            if len(ne_ij) > 0:                    \n",
    "                Z = U[:,list(ne_ij)]\n",
    "                print(f\"ne i={i} j={j}: {ne_ij}\")\n",
    "                beta_i, *_ = np.linalg.lstsq(Z, U[:,i], rcond=None)\n",
    "                print(f\"beta i={i}: {beta_i}\")\n",
    "                print(f\"beta i={i} direct: {np.linalg.lstsq(Z, U[:,i], rcond=None)[0]}\")\n",
    "                beta_j, *_ = np.linalg.lstsq(Z, U[:,j], rcond=None)\n",
    "                print(f\"beta j={j}: {beta_j}\")\n",
    "                print(f\"beta i={j} direct: {np.linalg.lstsq(Z, U[:,j], rcond=None)[0]}\")\n",
    "                r_i = U[:,i] - Z @ beta_i\n",
    "                r_j = U[:,j] - Z @ beta_j\n",
    "            else:\n",
    "                r_i = U[:,i]\n",
    "                r_j = U[:,j]\n",
    "\n",
    "            P11 = np.linalg.inv(np.cov(r_i, r_j))\n",
    "            #print(f\"P11:\\n {P11}\")\n",
    "            prec_full[i,j] = P11[0,1]\n",
    "            prec_full[j,i] = prec_full[i,j]\n",
    "        print(prec_full.A)\n",
    "\n",
    "prec_full = prec_full.tocsc()\n",
    "print(prec_full.A)"
   ]
  },
  {
   "cell_type": "code",
   "execution_count": 736,
   "id": "4019ea3e-e535-449a-ad0d-e9236ad366f2",
   "metadata": {},
   "outputs": [
    {
     "data": {
      "text/plain": [
       "array([[ 1.012, -1.168,  0.   ,  0.   ,  0.   ],\n",
       "       [-1.168,  2.391, -1.172,  0.   ,  0.   ],\n",
       "       [ 0.   , -1.172,  2.144, -1.059,  0.   ],\n",
       "       [ 0.   ,  0.   , -1.059,  1.973, -0.879],\n",
       "       [ 0.   ,  0.   ,  0.   , -0.879,  0.879]])"
      ]
     },
     "execution_count": 736,
     "metadata": {},
     "output_type": "execute_result"
    }
   ],
   "source": [
    "prec_full.A"
   ]
  },
  {
   "cell_type": "code",
   "execution_count": 737,
   "id": "1c9e21cc-3673-4218-afb7-875638edd38e",
   "metadata": {},
   "outputs": [
    {
     "data": {
      "text/plain": [
       "array([[ 0.976, -0.986,  0.   ,  0.   ,  0.   ],\n",
       "       [-0.986,  2.021, -0.998,  0.   ,  0.   ],\n",
       "       [ 0.   , -0.998,  1.988, -1.017,  0.   ],\n",
       "       [ 0.   ,  0.   , -1.017,  1.852, -0.832],\n",
       "       [ 0.   ,  0.   ,  0.   , -0.832,  0.856]])"
      ]
     },
     "execution_count": 737,
     "metadata": {},
     "output_type": "execute_result"
    }
   ],
   "source": [
    "prec_est.A"
   ]
  },
  {
   "cell_type": "code",
   "execution_count": 738,
   "id": "a6fe59f2-6627-483c-9ad2-385db5f0cc24",
   "metadata": {},
   "outputs": [
    {
     "data": {
      "text/plain": [
       "array([[ 1.  , -0.99,  0.  ,  0.  ,  0.  ],\n",
       "       [-0.99,  1.98, -0.99,  0.  ,  0.  ],\n",
       "       [ 0.  , -0.99,  1.98, -0.99,  0.  ],\n",
       "       [ 0.  ,  0.  , -0.99,  1.98, -0.99],\n",
       "       [ 0.  ,  0.  ,  0.  , -0.99,  1.  ]])"
      ]
     },
     "execution_count": 738,
     "metadata": {},
     "output_type": "execute_result"
    }
   ],
   "source": [
    "prec.A"
   ]
  },
  {
   "cell_type": "code",
   "execution_count": 739,
   "id": "4aa6a747-492d-4e23-bfdb-d32911b013ec",
   "metadata": {},
   "outputs": [
    {
     "data": {
      "text/plain": [
       "array([[-6.252, -6.273, -6.567, -6.35 , -6.348],\n",
       "       [-6.273, -5.436, -5.69 , -5.503, -5.501],\n",
       "       [-6.567, -5.69 , -5.063, -4.896, -4.895],\n",
       "       [-6.35 , -5.503, -4.896, -3.821, -3.82 ],\n",
       "       [-6.348, -5.501, -4.895, -3.82 , -2.682]])"
      ]
     },
     "execution_count": 739,
     "metadata": {},
     "output_type": "execute_result"
    }
   ],
   "source": [
    "np.linalg.inv(prec_full.A)"
   ]
  },
  {
   "cell_type": "code",
   "execution_count": 740,
   "id": "3b9b8ef0-b75c-419f-ab28-710993ebf24e",
   "metadata": {},
   "outputs": [
    {
     "data": {
      "text/plain": [
       "array([[40.272, 38.828, 38.856, 37.873, 36.802],\n",
       "       [38.828, 38.415, 38.442, 37.469, 36.41 ],\n",
       "       [38.856, 38.442, 39.473, 38.474, 37.386],\n",
       "       [37.873, 37.469, 38.474, 38.458, 37.371],\n",
       "       [36.802, 36.41 , 37.386, 37.371, 37.482]])"
      ]
     },
     "execution_count": 740,
     "metadata": {},
     "output_type": "execute_result"
    }
   ],
   "source": [
    "np.linalg.inv(prec_est.A)"
   ]
  },
  {
   "cell_type": "code",
   "execution_count": 741,
   "id": "8bd232f2-ddd9-4edb-a59c-e9c1f6608123",
   "metadata": {},
   "outputs": [
    {
     "data": {
      "text/plain": [
       "array([[50.251, 49.749, 49.251, 48.759, 48.271],\n",
       "       [49.749, 50.251, 49.749, 49.251, 48.759],\n",
       "       [49.251, 49.749, 50.251, 49.749, 49.251],\n",
       "       [48.759, 49.251, 49.749, 50.251, 49.749],\n",
       "       [48.271, 48.759, 49.251, 49.749, 50.251]])"
      ]
     },
     "execution_count": 741,
     "metadata": {},
     "output_type": "execute_result"
    }
   ],
   "source": [
    "np.linalg.inv(prec.A)"
   ]
  },
  {
   "cell_type": "markdown",
   "id": "cf8cf3b4-b881-4573-8adf-953957e73f84",
   "metadata": {},
   "source": [
    "# New matrix inversion likelihood"
   ]
  },
  {
   "cell_type": "code",
   "execution_count": 742,
   "id": "8014b1ed-6047-4f43-b30d-86a9751214a5",
   "metadata": {},
   "outputs": [],
   "source": [
    "from sksparse.cholmod import cholesky\n",
    "from scipy.optimize import minimize\n",
    "from scipy.linalg import LinAlgError\n",
    "from sksparse.cholmod import CholmodNotPositiveDefiniteError\n",
    "\n",
    "def trace_s_prec(X, Prec):\n",
    "    \"\"\"\n",
    "    Computes the trace of the product of the normalized scatter matrix from data X\n",
    "    and a sparse precision matrix Prec. This function is efficient in that it computes\n",
    "    the trace directly without forming the full product matrix.\n",
    "\n",
    "    Parameters:\n",
    "    - X (numpy.ndarray): The data matrix of shape (n, p).\n",
    "    - Prec (scipy.sparse.matrix): A sparse pxp precision matrix.\n",
    "\n",
    "    Returns:\n",
    "    - float: The trace of the product of the normalized scatter matrix and Prec.\n",
    "    \"\"\"\n",
    "    n, _ = X.shape\n",
    "\n",
    "    # Extract indices and values of the non-zeros in the lower triangular part\n",
    "    prec_ltri = sp.sparse.tril(Prec)\n",
    "    rows, cols = prec_ltri.nonzero()\n",
    "    vals = prec_ltri.data\n",
    "\n",
    "    X_centered = X - X.mean(axis=0)\n",
    "\n",
    "    trace_s_prec_val = 0.0\n",
    "\n",
    "    # Iterate over the non-zero elements of the lower triangular part\n",
    "    for i, j, val in zip(rows, cols, vals):\n",
    "        # Use the symmetric property of Prec to handle off-diagonal elements\n",
    "        if i != j:\n",
    "            trace_s_prec_val += 2.0 * val * X_centered[:, j].dot(X_centered[:, i]) / n\n",
    "        else:\n",
    "            trace_s_prec_val += val * X_centered[:, j].dot(X_centered[:, i]) / n\n",
    "\n",
    "    return trace_s_prec_val\n",
    "\n",
    "\n",
    "def objective(vals, U, rows, cols):\n",
    "    # Reconstruct current estimated precision\n",
    "    prec_ltri = sp.sparse.csc_matrix((vals, (rows, cols)), shape=(p, p))\n",
    "    prec = prec_ltri + prec_ltri.T - sp.sparse.diags(prec_ltri.diagonal())\n",
    "\n",
    "    # adjust for fitting the log of the diagonal elements\n",
    "    diag = prec.diagonal()\n",
    "    prec = prec - sp.sparse.diags(diag) + sp.sparse.diags(np.exp(diag))\n",
    "\n",
    "    try:\n",
    "        logdet = cholesky(prec).logdet()\n",
    "    except (CholmodNotPositiveDefiniteError, LinAlgError, RuntimeError):\n",
    "        logdet = -np.Inf\n",
    "    \n",
    "    trace_data_prec = trace_s_prec(U, prec)\n",
    "\n",
    "    return 0.5 * (trace_data_prec - logdet)\n",
    "\n",
    "def gradient(vals, U, rows, cols):\n",
    "    p = len(vals)\n",
    "    sample_cov = np.cov(U,rowvar=False,ddof=0)\n",
    "\n",
    "    # Reconstruct current estimated precision\n",
    "    prec_ltri = sp.sparse.csc_matrix((vals, (rows, cols)), shape=(p, p))\n",
    "    prec = prec_ltri + prec_ltri.T - sp.sparse.diags(prec_ltri.diagonal())\n",
    "\n",
    "    # adjust for fitting the log of the diagonal elements\n",
    "    diag = prec.diagonal()\n",
    "    prec = prec - sp.sparse.diags(diag) + sp.sparse.diags(np.exp(diag))\n",
    "\n",
    "    cov_current_est = np.linalg.inv(prec.toarray())\n",
    "\n",
    "    grad = np.zeros(p)\n",
    "    for i, j, counter in zip(rows, cols, range(p)):\n",
    "        grad[counter] = 0.5 * (sample_cov[i,j] - cov_current_est[i,j])\n",
    "        if i != j:\n",
    "            # symmetry: off-diagonals counted twice in gradient equations\n",
    "            grad[counter] = 2.0 * grad[counter]\n",
    "        else:\n",
    "            # dexp(x)/dx\n",
    "            grad[counter] *= np.exp(diag[i])\n",
    "            pass\n",
    "\n",
    "    return grad\n",
    "\n",
    "def hessian(vals, U, rows, cols):\n",
    "    p = len(vals)\n",
    "    \n",
    "    # Reconstruct current estimated precision\n",
    "    prec_ltri = sp.sparse.csc_matrix((vals, (rows, cols)), shape=(p, p))\n",
    "    prec = prec_ltri + prec_ltri.T - sp.sparse.diags(prec_ltri.diagonal())\n",
    "\n",
    "    # adjust for fitting the log of the diagonal elements\n",
    "    diag = prec.diagonal()\n",
    "    prec = prec - sp.sparse.diags(diag) + sp.sparse.diags(np.exp(diag))\n",
    "\n",
    "    cov_current_est = np.linalg.inv(prec.toarray())\n",
    "\n",
    "    hess = -np.kron(cov_current_est, cov_current_est)\n",
    "\n",
    "    return hess"
   ]
  },
  {
   "cell_type": "code",
   "execution_count": 743,
   "id": "45615a19-046b-4d20-8817-18cb65d318b9",
   "metadata": {},
   "outputs": [
    {
     "name": "stderr",
     "output_type": "stream",
     "text": [
      "/var/folders/cc/tr9zz8jx42d69801p14v77l00000gp/T/ipykernel_2221/2036525692.py:51: RuntimeWarning: invalid value encountered in log\n",
      "  logdet = cholesky(prec).logdet()\n"
     ]
    },
    {
     "data": {
      "text/plain": [
       "array([23.571, 45.182, 52.486, 44.171, 47.707, 43.385, 41.72 , 41.186,\n",
       "       17.628])"
      ]
     },
     "execution_count": 743,
     "metadata": {},
     "output_type": "execute_result"
    }
   ],
   "source": [
    "matrix = prec_full.copy()\n",
    "diag = matrix.diagonal()\n",
    "matrix = matrix - sp.sparse.diags(diag) + sp.sparse.diags(np.log(diag))\n",
    "\n",
    "p, _ = matrix.shape\n",
    "# Extract the lower triangular part including the diagonal\n",
    "lower_triangular = sp.sparse.tril(matrix)\n",
    "\n",
    "# Get rows, cols, and values from the lower triangular part\n",
    "rows, cols = lower_triangular.nonzero()\n",
    "vals = lower_triangular.data\n",
    "#vals[:] = 0\n",
    "#vals\n",
    "objective(vals, U, rows, cols)\n",
    "gradient(vals, U, rows, cols)"
   ]
  },
  {
   "cell_type": "code",
   "execution_count": 744,
   "id": "4cc0f544-573d-462b-b03b-ea1fefc60abb",
   "metadata": {},
   "outputs": [
    {
     "name": "stderr",
     "output_type": "stream",
     "text": [
      "/var/folders/cc/tr9zz8jx42d69801p14v77l00000gp/T/ipykernel_2221/2036525692.py:51: RuntimeWarning: invalid value encountered in log\n",
      "  logdet = cholesky(prec).logdet()\n"
     ]
    },
    {
     "ename": "LinAlgError",
     "evalue": "Singular matrix",
     "output_type": "error",
     "traceback": [
      "\u001b[0;31m---------------------------------------------------------------------------\u001b[0m",
      "\u001b[0;31mLinAlgError\u001b[0m                               Traceback (most recent call last)",
      "Cell \u001b[0;32mIn[744], line 1\u001b[0m\n\u001b[0;32m----> 1\u001b[0m res \u001b[38;5;241m=\u001b[39m \u001b[43mminimize\u001b[49m\u001b[43m(\u001b[49m\n\u001b[1;32m      2\u001b[0m \u001b[43m    \u001b[49m\u001b[43mfun\u001b[49m\u001b[38;5;241;43m=\u001b[39;49m\u001b[43mobjective\u001b[49m\u001b[43m,\u001b[49m\n\u001b[1;32m      3\u001b[0m \u001b[43m    \u001b[49m\u001b[43mx0\u001b[49m\u001b[38;5;241;43m=\u001b[39;49m\u001b[43mvals\u001b[49m\u001b[43m,\u001b[49m\n\u001b[1;32m      4\u001b[0m \u001b[43m    \u001b[49m\u001b[43margs\u001b[49m\u001b[38;5;241;43m=\u001b[39;49m\u001b[43m(\u001b[49m\u001b[43mU\u001b[49m\u001b[43m,\u001b[49m\u001b[43m \u001b[49m\u001b[43mrows\u001b[49m\u001b[43m,\u001b[49m\u001b[43m \u001b[49m\u001b[43mcols\u001b[49m\u001b[43m)\u001b[49m\u001b[43m,\u001b[49m\n\u001b[1;32m      5\u001b[0m \u001b[43m    \u001b[49m\u001b[38;5;66;43;03m#method=optimization_method,\u001b[39;49;00m\n\u001b[1;32m      6\u001b[0m \u001b[43m    \u001b[49m\u001b[43mjac\u001b[49m\u001b[38;5;241;43m=\u001b[39;49m\u001b[43mgradient\u001b[49m\u001b[43m,\u001b[49m\n\u001b[1;32m      7\u001b[0m \u001b[43m    \u001b[49m\u001b[38;5;66;43;03m# hess=hessian,\u001b[39;49;00m\n\u001b[1;32m      8\u001b[0m \u001b[43m    \u001b[49m\u001b[38;5;66;43;03m#tol=1e-12,\u001b[39;49;00m\n\u001b[1;32m      9\u001b[0m \u001b[43m    \u001b[49m\u001b[38;5;66;43;03m#options={\"gtol\": 1e-9},\u001b[39;49;00m\n\u001b[1;32m     10\u001b[0m \u001b[43m)\u001b[49m\n\u001b[1;32m     12\u001b[0m \u001b[38;5;28mprint\u001b[39m(res)\n\u001b[1;32m     14\u001b[0m prec_ltri \u001b[38;5;241m=\u001b[39m sp\u001b[38;5;241m.\u001b[39msparse\u001b[38;5;241m.\u001b[39mcsc_matrix((res\u001b[38;5;241m.\u001b[39mx, (rows, cols)), shape\u001b[38;5;241m=\u001b[39m(p, p))\n",
      "File \u001b[0;32m~/Github/venv_sksparse/lib/python3.11/site-packages/scipy/optimize/_minimize.py:708\u001b[0m, in \u001b[0;36mminimize\u001b[0;34m(fun, x0, args, method, jac, hess, hessp, bounds, constraints, tol, callback, options)\u001b[0m\n\u001b[1;32m    706\u001b[0m     res \u001b[38;5;241m=\u001b[39m _minimize_cg(fun, x0, args, jac, callback, \u001b[38;5;241m*\u001b[39m\u001b[38;5;241m*\u001b[39moptions)\n\u001b[1;32m    707\u001b[0m \u001b[38;5;28;01melif\u001b[39;00m meth \u001b[38;5;241m==\u001b[39m \u001b[38;5;124m'\u001b[39m\u001b[38;5;124mbfgs\u001b[39m\u001b[38;5;124m'\u001b[39m:\n\u001b[0;32m--> 708\u001b[0m     res \u001b[38;5;241m=\u001b[39m \u001b[43m_minimize_bfgs\u001b[49m\u001b[43m(\u001b[49m\u001b[43mfun\u001b[49m\u001b[43m,\u001b[49m\u001b[43m \u001b[49m\u001b[43mx0\u001b[49m\u001b[43m,\u001b[49m\u001b[43m \u001b[49m\u001b[43margs\u001b[49m\u001b[43m,\u001b[49m\u001b[43m \u001b[49m\u001b[43mjac\u001b[49m\u001b[43m,\u001b[49m\u001b[43m \u001b[49m\u001b[43mcallback\u001b[49m\u001b[43m,\u001b[49m\u001b[43m \u001b[49m\u001b[38;5;241;43m*\u001b[39;49m\u001b[38;5;241;43m*\u001b[39;49m\u001b[43moptions\u001b[49m\u001b[43m)\u001b[49m\n\u001b[1;32m    709\u001b[0m \u001b[38;5;28;01melif\u001b[39;00m meth \u001b[38;5;241m==\u001b[39m \u001b[38;5;124m'\u001b[39m\u001b[38;5;124mnewton-cg\u001b[39m\u001b[38;5;124m'\u001b[39m:\n\u001b[1;32m    710\u001b[0m     res \u001b[38;5;241m=\u001b[39m _minimize_newtoncg(fun, x0, args, jac, hess, hessp, callback,\n\u001b[1;32m    711\u001b[0m                              \u001b[38;5;241m*\u001b[39m\u001b[38;5;241m*\u001b[39moptions)\n",
      "File \u001b[0;32m~/Github/venv_sksparse/lib/python3.11/site-packages/scipy/optimize/_optimize.py:1503\u001b[0m, in \u001b[0;36m_minimize_bfgs\u001b[0;34m(fun, x0, args, jac, callback, gtol, norm, eps, maxiter, disp, return_all, finite_diff_rel_step, xrtol, c1, c2, hess_inv0, **unknown_options)\u001b[0m\n\u001b[1;32m   1500\u001b[0m pk \u001b[38;5;241m=\u001b[39m \u001b[38;5;241m-\u001b[39mnp\u001b[38;5;241m.\u001b[39mdot(Hk, gfk)\n\u001b[1;32m   1501\u001b[0m \u001b[38;5;28;01mtry\u001b[39;00m:\n\u001b[1;32m   1502\u001b[0m     alpha_k, fc, gc, old_fval, old_old_fval, gfkp1 \u001b[38;5;241m=\u001b[39m \\\n\u001b[0;32m-> 1503\u001b[0m              \u001b[43m_line_search_wolfe12\u001b[49m\u001b[43m(\u001b[49m\u001b[43mf\u001b[49m\u001b[43m,\u001b[49m\u001b[43m \u001b[49m\u001b[43mmyfprime\u001b[49m\u001b[43m,\u001b[49m\u001b[43m \u001b[49m\u001b[43mxk\u001b[49m\u001b[43m,\u001b[49m\u001b[43m \u001b[49m\u001b[43mpk\u001b[49m\u001b[43m,\u001b[49m\u001b[43m \u001b[49m\u001b[43mgfk\u001b[49m\u001b[43m,\u001b[49m\n\u001b[1;32m   1504\u001b[0m \u001b[43m                                  \u001b[49m\u001b[43mold_fval\u001b[49m\u001b[43m,\u001b[49m\u001b[43m \u001b[49m\u001b[43mold_old_fval\u001b[49m\u001b[43m,\u001b[49m\u001b[43m \u001b[49m\u001b[43mamin\u001b[49m\u001b[38;5;241;43m=\u001b[39;49m\u001b[38;5;241;43m1e-100\u001b[39;49m\u001b[43m,\u001b[49m\n\u001b[1;32m   1505\u001b[0m \u001b[43m                                  \u001b[49m\u001b[43mamax\u001b[49m\u001b[38;5;241;43m=\u001b[39;49m\u001b[38;5;241;43m1e100\u001b[39;49m\u001b[43m,\u001b[49m\u001b[43m \u001b[49m\u001b[43mc1\u001b[49m\u001b[38;5;241;43m=\u001b[39;49m\u001b[43mc1\u001b[49m\u001b[43m,\u001b[49m\u001b[43m \u001b[49m\u001b[43mc2\u001b[49m\u001b[38;5;241;43m=\u001b[39;49m\u001b[43mc2\u001b[49m\u001b[43m)\u001b[49m\n\u001b[1;32m   1506\u001b[0m \u001b[38;5;28;01mexcept\u001b[39;00m _LineSearchError:\n\u001b[1;32m   1507\u001b[0m     \u001b[38;5;66;03m# Line search failed to find a better solution.\u001b[39;00m\n\u001b[1;32m   1508\u001b[0m     warnflag \u001b[38;5;241m=\u001b[39m \u001b[38;5;241m2\u001b[39m\n",
      "File \u001b[0;32m~/Github/venv_sksparse/lib/python3.11/site-packages/scipy/optimize/_optimize.py:1239\u001b[0m, in \u001b[0;36m_line_search_wolfe12\u001b[0;34m(f, fprime, xk, pk, gfk, old_fval, old_old_fval, **kwargs)\u001b[0m\n\u001b[1;32m   1225\u001b[0m \u001b[38;5;250m\u001b[39m\u001b[38;5;124;03m\"\"\"\u001b[39;00m\n\u001b[1;32m   1226\u001b[0m \u001b[38;5;124;03mSame as line_search_wolfe1, but fall back to line_search_wolfe2 if\u001b[39;00m\n\u001b[1;32m   1227\u001b[0m \u001b[38;5;124;03msuitable step length is not found, and raise an exception if a\u001b[39;00m\n\u001b[0;32m   (...)\u001b[0m\n\u001b[1;32m   1234\u001b[0m \n\u001b[1;32m   1235\u001b[0m \u001b[38;5;124;03m\"\"\"\u001b[39;00m\n\u001b[1;32m   1237\u001b[0m extra_condition \u001b[38;5;241m=\u001b[39m kwargs\u001b[38;5;241m.\u001b[39mpop(\u001b[38;5;124m'\u001b[39m\u001b[38;5;124mextra_condition\u001b[39m\u001b[38;5;124m'\u001b[39m, \u001b[38;5;28;01mNone\u001b[39;00m)\n\u001b[0;32m-> 1239\u001b[0m ret \u001b[38;5;241m=\u001b[39m \u001b[43mline_search_wolfe1\u001b[49m\u001b[43m(\u001b[49m\u001b[43mf\u001b[49m\u001b[43m,\u001b[49m\u001b[43m \u001b[49m\u001b[43mfprime\u001b[49m\u001b[43m,\u001b[49m\u001b[43m \u001b[49m\u001b[43mxk\u001b[49m\u001b[43m,\u001b[49m\u001b[43m \u001b[49m\u001b[43mpk\u001b[49m\u001b[43m,\u001b[49m\u001b[43m \u001b[49m\u001b[43mgfk\u001b[49m\u001b[43m,\u001b[49m\n\u001b[1;32m   1240\u001b[0m \u001b[43m                         \u001b[49m\u001b[43mold_fval\u001b[49m\u001b[43m,\u001b[49m\u001b[43m \u001b[49m\u001b[43mold_old_fval\u001b[49m\u001b[43m,\u001b[49m\n\u001b[1;32m   1241\u001b[0m \u001b[43m                         \u001b[49m\u001b[38;5;241;43m*\u001b[39;49m\u001b[38;5;241;43m*\u001b[39;49m\u001b[43mkwargs\u001b[49m\u001b[43m)\u001b[49m\n\u001b[1;32m   1243\u001b[0m \u001b[38;5;28;01mif\u001b[39;00m ret[\u001b[38;5;241m0\u001b[39m] \u001b[38;5;129;01mis\u001b[39;00m \u001b[38;5;129;01mnot\u001b[39;00m \u001b[38;5;28;01mNone\u001b[39;00m \u001b[38;5;129;01mand\u001b[39;00m extra_condition \u001b[38;5;129;01mis\u001b[39;00m \u001b[38;5;129;01mnot\u001b[39;00m \u001b[38;5;28;01mNone\u001b[39;00m:\n\u001b[1;32m   1244\u001b[0m     xp1 \u001b[38;5;241m=\u001b[39m xk \u001b[38;5;241m+\u001b[39m ret[\u001b[38;5;241m0\u001b[39m] \u001b[38;5;241m*\u001b[39m pk\n",
      "File \u001b[0;32m~/Github/venv_sksparse/lib/python3.11/site-packages/scipy/optimize/_linesearch.py:94\u001b[0m, in \u001b[0;36mline_search_wolfe1\u001b[0;34m(f, fprime, xk, pk, gfk, old_fval, old_old_fval, args, c1, c2, amax, amin, xtol)\u001b[0m\n\u001b[1;32m     90\u001b[0m     \u001b[38;5;28;01mreturn\u001b[39;00m np\u001b[38;5;241m.\u001b[39mdot(gval[\u001b[38;5;241m0\u001b[39m], pk)\n\u001b[1;32m     92\u001b[0m derphi0 \u001b[38;5;241m=\u001b[39m np\u001b[38;5;241m.\u001b[39mdot(gfk, pk)\n\u001b[0;32m---> 94\u001b[0m stp, fval, old_fval \u001b[38;5;241m=\u001b[39m \u001b[43mscalar_search_wolfe1\u001b[49m\u001b[43m(\u001b[49m\n\u001b[1;32m     95\u001b[0m \u001b[43m        \u001b[49m\u001b[43mphi\u001b[49m\u001b[43m,\u001b[49m\u001b[43m \u001b[49m\u001b[43mderphi\u001b[49m\u001b[43m,\u001b[49m\u001b[43m \u001b[49m\u001b[43mold_fval\u001b[49m\u001b[43m,\u001b[49m\u001b[43m \u001b[49m\u001b[43mold_old_fval\u001b[49m\u001b[43m,\u001b[49m\u001b[43m \u001b[49m\u001b[43mderphi0\u001b[49m\u001b[43m,\u001b[49m\n\u001b[1;32m     96\u001b[0m \u001b[43m        \u001b[49m\u001b[43mc1\u001b[49m\u001b[38;5;241;43m=\u001b[39;49m\u001b[43mc1\u001b[49m\u001b[43m,\u001b[49m\u001b[43m \u001b[49m\u001b[43mc2\u001b[49m\u001b[38;5;241;43m=\u001b[39;49m\u001b[43mc2\u001b[49m\u001b[43m,\u001b[49m\u001b[43m \u001b[49m\u001b[43mamax\u001b[49m\u001b[38;5;241;43m=\u001b[39;49m\u001b[43mamax\u001b[49m\u001b[43m,\u001b[49m\u001b[43m \u001b[49m\u001b[43mamin\u001b[49m\u001b[38;5;241;43m=\u001b[39;49m\u001b[43mamin\u001b[49m\u001b[43m,\u001b[49m\u001b[43m \u001b[49m\u001b[43mxtol\u001b[49m\u001b[38;5;241;43m=\u001b[39;49m\u001b[43mxtol\u001b[49m\u001b[43m)\u001b[49m\n\u001b[1;32m     98\u001b[0m \u001b[38;5;28;01mreturn\u001b[39;00m stp, fc[\u001b[38;5;241m0\u001b[39m], gc[\u001b[38;5;241m0\u001b[39m], fval, old_fval, gval[\u001b[38;5;241m0\u001b[39m]\n",
      "File \u001b[0;32m~/Github/venv_sksparse/lib/python3.11/site-packages/scipy/optimize/_linesearch.py:171\u001b[0m, in \u001b[0;36mscalar_search_wolfe1\u001b[0;34m(phi, derphi, phi0, old_phi0, derphi0, c1, c2, amax, amin, xtol)\u001b[0m\n\u001b[1;32m    168\u001b[0m maxiter \u001b[38;5;241m=\u001b[39m \u001b[38;5;241m100\u001b[39m\n\u001b[1;32m    170\u001b[0m dcsrch \u001b[38;5;241m=\u001b[39m DCSRCH(phi, derphi, c1, c2, xtol, amin, amax)\n\u001b[0;32m--> 171\u001b[0m stp, phi1, phi0, task \u001b[38;5;241m=\u001b[39m \u001b[43mdcsrch\u001b[49m\u001b[43m(\u001b[49m\n\u001b[1;32m    172\u001b[0m \u001b[43m    \u001b[49m\u001b[43malpha1\u001b[49m\u001b[43m,\u001b[49m\u001b[43m \u001b[49m\u001b[43mphi0\u001b[49m\u001b[38;5;241;43m=\u001b[39;49m\u001b[43mphi0\u001b[49m\u001b[43m,\u001b[49m\u001b[43m \u001b[49m\u001b[43mderphi0\u001b[49m\u001b[38;5;241;43m=\u001b[39;49m\u001b[43mderphi0\u001b[49m\u001b[43m,\u001b[49m\u001b[43m \u001b[49m\u001b[43mmaxiter\u001b[49m\u001b[38;5;241;43m=\u001b[39;49m\u001b[43mmaxiter\u001b[49m\n\u001b[1;32m    173\u001b[0m \u001b[43m\u001b[49m\u001b[43m)\u001b[49m\n\u001b[1;32m    175\u001b[0m \u001b[38;5;28;01mreturn\u001b[39;00m stp, phi1, phi0\n",
      "File \u001b[0;32m~/Github/venv_sksparse/lib/python3.11/site-packages/scipy/optimize/_dcsrch.py:256\u001b[0m, in \u001b[0;36mDCSRCH.__call__\u001b[0;34m(self, alpha1, phi0, derphi0, maxiter)\u001b[0m\n\u001b[1;32m    254\u001b[0m     alpha1 \u001b[38;5;241m=\u001b[39m stp\n\u001b[1;32m    255\u001b[0m     phi1 \u001b[38;5;241m=\u001b[39m \u001b[38;5;28mself\u001b[39m\u001b[38;5;241m.\u001b[39mphi(stp)\n\u001b[0;32m--> 256\u001b[0m     derphi1 \u001b[38;5;241m=\u001b[39m \u001b[38;5;28;43mself\u001b[39;49m\u001b[38;5;241;43m.\u001b[39;49m\u001b[43mderphi\u001b[49m\u001b[43m(\u001b[49m\u001b[43mstp\u001b[49m\u001b[43m)\u001b[49m\n\u001b[1;32m    257\u001b[0m \u001b[38;5;28;01melse\u001b[39;00m:\n\u001b[1;32m    258\u001b[0m     \u001b[38;5;28;01mbreak\u001b[39;00m\n",
      "File \u001b[0;32m~/Github/venv_sksparse/lib/python3.11/site-packages/scipy/optimize/_linesearch.py:88\u001b[0m, in \u001b[0;36mline_search_wolfe1.<locals>.derphi\u001b[0;34m(s)\u001b[0m\n\u001b[1;32m     87\u001b[0m \u001b[38;5;28;01mdef\u001b[39;00m \u001b[38;5;21mderphi\u001b[39m(s):\n\u001b[0;32m---> 88\u001b[0m     gval[\u001b[38;5;241m0\u001b[39m] \u001b[38;5;241m=\u001b[39m \u001b[43mfprime\u001b[49m\u001b[43m(\u001b[49m\u001b[43mxk\u001b[49m\u001b[43m \u001b[49m\u001b[38;5;241;43m+\u001b[39;49m\u001b[43m \u001b[49m\u001b[43ms\u001b[49m\u001b[38;5;241;43m*\u001b[39;49m\u001b[43mpk\u001b[49m\u001b[43m,\u001b[49m\u001b[43m \u001b[49m\u001b[38;5;241;43m*\u001b[39;49m\u001b[43margs\u001b[49m\u001b[43m)\u001b[49m\n\u001b[1;32m     89\u001b[0m     gc[\u001b[38;5;241m0\u001b[39m] \u001b[38;5;241m+\u001b[39m\u001b[38;5;241m=\u001b[39m \u001b[38;5;241m1\u001b[39m\n\u001b[1;32m     90\u001b[0m     \u001b[38;5;28;01mreturn\u001b[39;00m np\u001b[38;5;241m.\u001b[39mdot(gval[\u001b[38;5;241m0\u001b[39m], pk)\n",
      "File \u001b[0;32m~/Github/venv_sksparse/lib/python3.11/site-packages/scipy/optimize/_differentiable_functions.py:284\u001b[0m, in \u001b[0;36mScalarFunction.grad\u001b[0;34m(self, x)\u001b[0m\n\u001b[1;32m    282\u001b[0m \u001b[38;5;28;01mif\u001b[39;00m \u001b[38;5;129;01mnot\u001b[39;00m np\u001b[38;5;241m.\u001b[39marray_equal(x, \u001b[38;5;28mself\u001b[39m\u001b[38;5;241m.\u001b[39mx):\n\u001b[1;32m    283\u001b[0m     \u001b[38;5;28mself\u001b[39m\u001b[38;5;241m.\u001b[39m_update_x_impl(x)\n\u001b[0;32m--> 284\u001b[0m \u001b[38;5;28;43mself\u001b[39;49m\u001b[38;5;241;43m.\u001b[39;49m\u001b[43m_update_grad\u001b[49m\u001b[43m(\u001b[49m\u001b[43m)\u001b[49m\n\u001b[1;32m    285\u001b[0m \u001b[38;5;28;01mreturn\u001b[39;00m \u001b[38;5;28mself\u001b[39m\u001b[38;5;241m.\u001b[39mg\n",
      "File \u001b[0;32m~/Github/venv_sksparse/lib/python3.11/site-packages/scipy/optimize/_differentiable_functions.py:267\u001b[0m, in \u001b[0;36mScalarFunction._update_grad\u001b[0;34m(self)\u001b[0m\n\u001b[1;32m    265\u001b[0m \u001b[38;5;28;01mdef\u001b[39;00m \u001b[38;5;21m_update_grad\u001b[39m(\u001b[38;5;28mself\u001b[39m):\n\u001b[1;32m    266\u001b[0m     \u001b[38;5;28;01mif\u001b[39;00m \u001b[38;5;129;01mnot\u001b[39;00m \u001b[38;5;28mself\u001b[39m\u001b[38;5;241m.\u001b[39mg_updated:\n\u001b[0;32m--> 267\u001b[0m         \u001b[38;5;28;43mself\u001b[39;49m\u001b[38;5;241;43m.\u001b[39;49m\u001b[43m_update_grad_impl\u001b[49m\u001b[43m(\u001b[49m\u001b[43m)\u001b[49m\n\u001b[1;32m    268\u001b[0m         \u001b[38;5;28mself\u001b[39m\u001b[38;5;241m.\u001b[39mg_updated \u001b[38;5;241m=\u001b[39m \u001b[38;5;28;01mTrue\u001b[39;00m\n",
      "File \u001b[0;32m~/Github/venv_sksparse/lib/python3.11/site-packages/scipy/optimize/_differentiable_functions.py:175\u001b[0m, in \u001b[0;36mScalarFunction.__init__.<locals>.update_grad\u001b[0;34m()\u001b[0m\n\u001b[1;32m    174\u001b[0m \u001b[38;5;28;01mdef\u001b[39;00m \u001b[38;5;21mupdate_grad\u001b[39m():\n\u001b[0;32m--> 175\u001b[0m     \u001b[38;5;28mself\u001b[39m\u001b[38;5;241m.\u001b[39mg \u001b[38;5;241m=\u001b[39m \u001b[43mgrad_wrapped\u001b[49m\u001b[43m(\u001b[49m\u001b[38;5;28;43mself\u001b[39;49m\u001b[38;5;241;43m.\u001b[39;49m\u001b[43mx\u001b[49m\u001b[43m)\u001b[49m\n",
      "File \u001b[0;32m~/Github/venv_sksparse/lib/python3.11/site-packages/scipy/optimize/_differentiable_functions.py:172\u001b[0m, in \u001b[0;36mScalarFunction.__init__.<locals>.grad_wrapped\u001b[0;34m(x)\u001b[0m\n\u001b[1;32m    170\u001b[0m \u001b[38;5;28;01mdef\u001b[39;00m \u001b[38;5;21mgrad_wrapped\u001b[39m(x):\n\u001b[1;32m    171\u001b[0m     \u001b[38;5;28mself\u001b[39m\u001b[38;5;241m.\u001b[39mngev \u001b[38;5;241m+\u001b[39m\u001b[38;5;241m=\u001b[39m \u001b[38;5;241m1\u001b[39m\n\u001b[0;32m--> 172\u001b[0m     \u001b[38;5;28;01mreturn\u001b[39;00m np\u001b[38;5;241m.\u001b[39matleast_1d(\u001b[43mgrad\u001b[49m\u001b[43m(\u001b[49m\u001b[43mnp\u001b[49m\u001b[38;5;241;43m.\u001b[39;49m\u001b[43mcopy\u001b[49m\u001b[43m(\u001b[49m\u001b[43mx\u001b[49m\u001b[43m)\u001b[49m\u001b[43m,\u001b[49m\u001b[43m \u001b[49m\u001b[38;5;241;43m*\u001b[39;49m\u001b[43margs\u001b[49m\u001b[43m)\u001b[49m)\n",
      "Cell \u001b[0;32mIn[742], line 71\u001b[0m, in \u001b[0;36mgradient\u001b[0;34m(vals, U, rows, cols)\u001b[0m\n\u001b[1;32m     68\u001b[0m diag \u001b[38;5;241m=\u001b[39m prec\u001b[38;5;241m.\u001b[39mdiagonal()\n\u001b[1;32m     69\u001b[0m prec \u001b[38;5;241m=\u001b[39m prec \u001b[38;5;241m-\u001b[39m sp\u001b[38;5;241m.\u001b[39msparse\u001b[38;5;241m.\u001b[39mdiags(diag) \u001b[38;5;241m+\u001b[39m sp\u001b[38;5;241m.\u001b[39msparse\u001b[38;5;241m.\u001b[39mdiags(np\u001b[38;5;241m.\u001b[39mexp(diag))\n\u001b[0;32m---> 71\u001b[0m cov_current_est \u001b[38;5;241m=\u001b[39m \u001b[43mnp\u001b[49m\u001b[38;5;241;43m.\u001b[39;49m\u001b[43mlinalg\u001b[49m\u001b[38;5;241;43m.\u001b[39;49m\u001b[43minv\u001b[49m\u001b[43m(\u001b[49m\u001b[43mprec\u001b[49m\u001b[38;5;241;43m.\u001b[39;49m\u001b[43mtoarray\u001b[49m\u001b[43m(\u001b[49m\u001b[43m)\u001b[49m\u001b[43m)\u001b[49m\n\u001b[1;32m     73\u001b[0m grad \u001b[38;5;241m=\u001b[39m np\u001b[38;5;241m.\u001b[39mzeros(p)\n\u001b[1;32m     74\u001b[0m \u001b[38;5;28;01mfor\u001b[39;00m i, j, counter \u001b[38;5;129;01min\u001b[39;00m \u001b[38;5;28mzip\u001b[39m(rows, cols, \u001b[38;5;28mrange\u001b[39m(p)):\n",
      "File \u001b[0;32m~/Github/venv_sksparse/lib/python3.11/site-packages/numpy/linalg/linalg.py:561\u001b[0m, in \u001b[0;36minv\u001b[0;34m(a)\u001b[0m\n\u001b[1;32m    559\u001b[0m signature \u001b[38;5;241m=\u001b[39m \u001b[38;5;124m'\u001b[39m\u001b[38;5;124mD->D\u001b[39m\u001b[38;5;124m'\u001b[39m \u001b[38;5;28;01mif\u001b[39;00m isComplexType(t) \u001b[38;5;28;01melse\u001b[39;00m \u001b[38;5;124m'\u001b[39m\u001b[38;5;124md->d\u001b[39m\u001b[38;5;124m'\u001b[39m\n\u001b[1;32m    560\u001b[0m extobj \u001b[38;5;241m=\u001b[39m get_linalg_error_extobj(_raise_linalgerror_singular)\n\u001b[0;32m--> 561\u001b[0m ainv \u001b[38;5;241m=\u001b[39m \u001b[43m_umath_linalg\u001b[49m\u001b[38;5;241;43m.\u001b[39;49m\u001b[43minv\u001b[49m\u001b[43m(\u001b[49m\u001b[43ma\u001b[49m\u001b[43m,\u001b[49m\u001b[43m \u001b[49m\u001b[43msignature\u001b[49m\u001b[38;5;241;43m=\u001b[39;49m\u001b[43msignature\u001b[49m\u001b[43m,\u001b[49m\u001b[43m \u001b[49m\u001b[43mextobj\u001b[49m\u001b[38;5;241;43m=\u001b[39;49m\u001b[43mextobj\u001b[49m\u001b[43m)\u001b[49m\n\u001b[1;32m    562\u001b[0m \u001b[38;5;28;01mreturn\u001b[39;00m wrap(ainv\u001b[38;5;241m.\u001b[39mastype(result_t, copy\u001b[38;5;241m=\u001b[39m\u001b[38;5;28;01mFalse\u001b[39;00m))\n",
      "File \u001b[0;32m~/Github/venv_sksparse/lib/python3.11/site-packages/numpy/linalg/linalg.py:112\u001b[0m, in \u001b[0;36m_raise_linalgerror_singular\u001b[0;34m(err, flag)\u001b[0m\n\u001b[1;32m    111\u001b[0m \u001b[38;5;28;01mdef\u001b[39;00m \u001b[38;5;21m_raise_linalgerror_singular\u001b[39m(err, flag):\n\u001b[0;32m--> 112\u001b[0m     \u001b[38;5;28;01mraise\u001b[39;00m LinAlgError(\u001b[38;5;124m\"\u001b[39m\u001b[38;5;124mSingular matrix\u001b[39m\u001b[38;5;124m\"\u001b[39m)\n",
      "\u001b[0;31mLinAlgError\u001b[0m: Singular matrix"
     ]
    }
   ],
   "source": [
    "res = minimize(\n",
    "    fun=objective,\n",
    "    x0=vals,\n",
    "    args=(U, rows, cols),\n",
    "    #method=optimization_method,\n",
    "    jac=gradient,\n",
    "    # hess=hessian,\n",
    "    #tol=1e-12,\n",
    "    #options={\"gtol\": 1e-9},\n",
    ")\n",
    "\n",
    "print(res)\n",
    "\n",
    "prec_ltri = sp.sparse.csc_matrix((res.x, (rows, cols)), shape=(p, p))\n",
    "prec_ml = prec_ltri + prec_ltri.T - sp.sparse.diags(prec_ltri.diagonal())\n",
    "\n",
    "# adjust for fitting the log of the diagonal elements\n",
    "diag = prec_ml.diagonal()\n",
    "prec_ml = prec_ml - sp.sparse.diags(diag) + sp.sparse.diags(np.exp(diag))\n",
    "\n",
    "print(prec_ml.A)"
   ]
  },
  {
   "cell_type": "code",
   "execution_count": 745,
   "id": "4db6a753-1b4c-4d74-8cbd-e8cda7921fdf",
   "metadata": {},
   "outputs": [
    {
     "data": {
      "text/plain": [
       "array([19.266, 37.973, 25.07 , 37.55 , 25.614, 37.558, 25.035, 36.43 ,\n",
       "       18.023])"
      ]
     },
     "execution_count": 745,
     "metadata": {},
     "output_type": "execute_result"
    }
   ],
   "source": [
    "gradient(res.x, U, rows, cols)"
   ]
  },
  {
   "cell_type": "code",
   "execution_count": 746,
   "id": "509911ac-7a76-4e5f-a174-99f8d20b30e7",
   "metadata": {},
   "outputs": [
    {
     "data": {
      "text/plain": [
       "array([[ 0.976, -0.986,  0.   ,  0.   ,  0.   ],\n",
       "       [-0.986,  2.021, -0.998,  0.   ,  0.   ],\n",
       "       [ 0.   , -0.998,  1.988, -1.017,  0.   ],\n",
       "       [ 0.   ,  0.   , -1.017,  1.852, -0.832],\n",
       "       [ 0.   ,  0.   ,  0.   , -0.832,  0.856]])"
      ]
     },
     "execution_count": 746,
     "metadata": {},
     "output_type": "execute_result"
    }
   ],
   "source": [
    "prec_est.A"
   ]
  },
  {
   "cell_type": "code",
   "execution_count": null,
   "id": "fd800f40-cad4-4ea3-a32e-e8ffe3860fd7",
   "metadata": {},
   "outputs": [],
   "source": []
  },
  {
   "cell_type": "code",
   "execution_count": 747,
   "id": "1dafe8fe-ceac-4591-b04a-541f55d9120c",
   "metadata": {},
   "outputs": [
    {
     "name": "stdout",
     "output_type": "stream",
     "text": [
      "Reconstructed Matrix:\n",
      " [[ 0.012 -1.168  0.     0.     0.   ]\n",
      " [-1.168  0.872 -1.172  0.     0.   ]\n",
      " [ 0.    -1.172  0.763 -1.059  0.   ]\n",
      " [ 0.     0.    -1.059  0.68  -0.879]\n",
      " [ 0.     0.     0.    -0.879 -0.129]]\n"
     ]
    }
   ],
   "source": [
    "# Create a new sparse matrix from the lower triangular triplets\n",
    "lower_matrix = sp.sparse.csc_matrix((vals, (rows, cols)), shape=(p, p))\n",
    "\n",
    "# Since the matrix is symmetric, reconstruct the full matrix\n",
    "reconstructed_matrix = lower_matrix + lower_matrix.T - sp.sparse.diags(lower_matrix.diagonal())\n",
    "\n",
    "print(\"Reconstructed Matrix:\\n\", reconstructed_matrix.toarray())\n"
   ]
  },
  {
   "cell_type": "code",
   "execution_count": 748,
   "id": "56b20585-7b7e-422e-b35a-dafd4e551b53",
   "metadata": {},
   "outputs": [],
   "source": [
    "chol_LLT = cholesky(prec)"
   ]
  },
  {
   "cell_type": "code",
   "execution_count": 749,
   "id": "b897e670-f591-4614-aeef-c9a017da8224",
   "metadata": {},
   "outputs": [
    {
     "data": {
      "text/plain": [
       "-3.9170355472516896"
      ]
     },
     "execution_count": 749,
     "metadata": {},
     "output_type": "execute_result"
    }
   ],
   "source": [
    "chol_LLT.logdet()"
   ]
  },
  {
   "cell_type": "code",
   "execution_count": 750,
   "id": "bf253a31-f5ca-43df-9ff2-e95991d69770",
   "metadata": {},
   "outputs": [
    {
     "data": {
      "text/plain": [
       "7.940300000000001"
      ]
     },
     "execution_count": 750,
     "metadata": {},
     "output_type": "execute_result"
    }
   ],
   "source": [
    "prec.trace()"
   ]
  },
  {
   "cell_type": "code",
   "execution_count": 751,
   "id": "5f7010dd-361e-442f-b537-cf67862980d6",
   "metadata": {},
   "outputs": [],
   "source": [
    "def trace_s_prec(X, Prec):\n",
    "    \"\"\"\n",
    "    Computes the trace of the product of the normalized scatter matrix from data X\n",
    "    and a sparse precision matrix Prec. This function is efficient in that it computes\n",
    "    the trace directly without forming the full product matrix.\n",
    "\n",
    "    Parameters:\n",
    "    - X (numpy.ndarray): The data matrix of shape (n, p).\n",
    "    - Prec (scipy.sparse.matrix): A sparse pxp precision matrix.\n",
    "\n",
    "    Returns:\n",
    "    - float: The trace of the product of the normalized scatter matrix and Prec.\n",
    "    \"\"\"\n",
    "    n, _ = X.shape\n",
    "\n",
    "    # Extract indices and values of the non-zeros in the lower triangular part\n",
    "    prec_ltri = sp.sparse.tril(Prec)\n",
    "    rows, cols = prec_ltri.nonzero()\n",
    "    vals = prec_ltri.data\n",
    "\n",
    "    X_centered = X - X.mean(axis=0)\n",
    "\n",
    "    trace_s_prec_val = 0.0\n",
    "\n",
    "    # Iterate over the non-zero elements of the lower triangular part\n",
    "    for i, j, val in zip(rows, cols, vals):\n",
    "        # Use the symmetric property of Prec to handle off-diagonal elements\n",
    "        if i != j:\n",
    "            trace_s_prec_val += 2.0 * val * X_centered[:, j].dot(X_centered[:, i]) / n\n",
    "        else:\n",
    "            trace_s_prec_val += val * X_centered[:, j].dot(X_centered[:, i]) / n\n",
    "\n",
    "    return trace_s_prec_val"
   ]
  },
  {
   "cell_type": "code",
   "execution_count": 752,
   "id": "8baa02b9-db52-4417-8fe4-e367efda1ffc",
   "metadata": {},
   "outputs": [
    {
     "data": {
      "text/plain": [
       "4.770722446070323"
      ]
     },
     "execution_count": 752,
     "metadata": {},
     "output_type": "execute_result"
    }
   ],
   "source": [
    "trace_s_prec(U,prec)"
   ]
  },
  {
   "cell_type": "code",
   "execution_count": 753,
   "id": "bd822708-d672-46b8-afe7-8fbf24731f7a",
   "metadata": {},
   "outputs": [
    {
     "data": {
      "text/plain": [
       "array([[40.328, 38.908, 38.798, 37.793, 36.56 ],\n",
       "       [38.908, 38.472, 38.481, 37.521, 36.359],\n",
       "       [38.798, 38.481, 39.445, 38.489, 37.369],\n",
       "       [37.793, 37.521, 38.489, 38.459, 37.366],\n",
       "       [36.56 , 36.359, 37.369, 37.366, 37.43 ]])"
      ]
     },
     "execution_count": 753,
     "metadata": {},
     "output_type": "execute_result"
    }
   ],
   "source": [
    "np.cov(U,rowvar=False,ddof=0)"
   ]
  },
  {
   "cell_type": "code",
   "execution_count": 754,
   "id": "f339452d-181e-492c-8588-ed303523f9ea",
   "metadata": {},
   "outputs": [
    {
     "data": {
      "text/plain": [
       "4.770722446070337"
      ]
     },
     "execution_count": 754,
     "metadata": {},
     "output_type": "execute_result"
    }
   ],
   "source": [
    "np.trace(np.cov(U,rowvar=False,ddof=0) @ prec)"
   ]
  },
  {
   "cell_type": "code",
   "execution_count": 755,
   "id": "dccb302d-7525-4ff3-b723-80e898252adf",
   "metadata": {},
   "outputs": [
    {
     "data": {
      "text/plain": [
       "array([[ 1.012, -1.168,  0.   ,  0.   ,  0.   ],\n",
       "       [-1.168,  2.391, -1.172,  0.   ,  0.   ],\n",
       "       [ 0.   , -1.172,  2.144, -1.059,  0.   ],\n",
       "       [ 0.   ,  0.   , -1.059,  1.973, -0.879],\n",
       "       [ 0.   ,  0.   ,  0.   , -0.879,  0.879]])"
      ]
     },
     "execution_count": 755,
     "metadata": {},
     "output_type": "execute_result"
    }
   ],
   "source": [
    "prec_full.A"
   ]
  },
  {
   "cell_type": "code",
   "execution_count": 756,
   "id": "d876c740-1326-4d38-8333-444ce4d5c35d",
   "metadata": {},
   "outputs": [
    {
     "data": {
      "text/plain": [
       "array([[ 0.994, -0.598,  0.   ,  0.   ,  0.   ],\n",
       "       [-0.598,  1.358, -0.597,  0.   ,  0.   ],\n",
       "       [ 0.   , -0.597,  1.352, -0.594,  0.   ],\n",
       "       [ 0.   ,  0.   , -0.594,  1.357, -0.603],\n",
       "       [ 0.   ,  0.   ,  0.   , -0.603,  1.005]])"
      ]
     },
     "execution_count": 756,
     "metadata": {},
     "output_type": "execute_result"
    }
   ],
   "source": [
    "prec_ml.A"
   ]
  },
  {
   "cell_type": "code",
   "execution_count": 757,
   "id": "ce0ee384-9497-4028-82d7-2aae0a843081",
   "metadata": {},
   "outputs": [
    {
     "data": {
      "text/plain": [
       "array([[ 0.976, -0.986,  0.   ,  0.   ,  0.   ],\n",
       "       [-0.986,  2.021, -0.998,  0.   ,  0.   ],\n",
       "       [ 0.   , -0.998,  1.988, -1.017,  0.   ],\n",
       "       [ 0.   ,  0.   , -1.017,  1.852, -0.832],\n",
       "       [ 0.   ,  0.   ,  0.   , -0.832,  0.856]])"
      ]
     },
     "execution_count": 757,
     "metadata": {},
     "output_type": "execute_result"
    }
   ],
   "source": [
    "prec_est.A"
   ]
  },
  {
   "cell_type": "code",
   "execution_count": 758,
   "id": "fe4b959e-c8d1-4554-a81a-88ca2bbd5560",
   "metadata": {},
   "outputs": [
    {
     "data": {
      "text/plain": [
       "array([[ 1.  , -0.99,  0.  ,  0.  ,  0.  ],\n",
       "       [-0.99,  1.98, -0.99,  0.  ,  0.  ],\n",
       "       [ 0.  , -0.99,  1.98, -0.99,  0.  ],\n",
       "       [ 0.  ,  0.  , -0.99,  1.98, -0.99],\n",
       "       [ 0.  ,  0.  ,  0.  , -0.99,  1.  ]])"
      ]
     },
     "execution_count": 758,
     "metadata": {},
     "output_type": "execute_result"
    }
   ],
   "source": [
    "prec.A"
   ]
  },
  {
   "cell_type": "code",
   "execution_count": 764,
   "id": "3117bb17-42cb-407c-aa48-a2dd3aca75af",
   "metadata": {},
   "outputs": [],
   "source": [
    "import numpy as np\n",
    "from scipy.sparse import csr_matrix, lil_matrix, coo_matrix\n",
    "from scipy.sparse.linalg import inv\n",
    "from numpy.linalg import pinv\n",
    "\n",
    "def get_precision_nonzero(Neighbours, markov_order):\n",
    "    if markov_order == 0:\n",
    "        p = Neighbours.shape[0]\n",
    "        return identity(p, format='csr')\n",
    "    G = Neighbours.copy()\n",
    "    for order in range(1, markov_order):\n",
    "        G = G.dot(Neighbours)\n",
    "    G.data[:] = 1.0  # All nonzero entries set to 1\n",
    "    return G\n",
    "\n",
    "def create_bi(Z, j):\n",
    "    p = Z.shape[1]\n",
    "    row_values = []\n",
    "    data_values = []\n",
    "    col_indices = []\n",
    "    for i in range(Z.indptr[j], Z.indptr[j + 1]):\n",
    "        row_index = Z.indices[i]\n",
    "        row_values.append(row_index)\n",
    "        data_values.append(1.0)  # Set value to 1.0 as per the structure needed\n",
    "        col_indices.append(i - Z.indptr[j])  # Local column index for non-zero structure\n",
    "    Bi = coo_matrix((data_values, (row_values, col_indices)), shape=(p, len(data_values))).tocsr()\n",
    "    return Bi\n",
    "\n",
    "def ensure_symmetry(M):\n",
    "    # Symmetrize the matrix M\n",
    "    return (M + M.T) / 2\n",
    "\n",
    "def prec_sparse(X, Graph, markov_order=1, symmetrization=True):\n",
    "    p = X.shape[1]\n",
    "    Ip = np.eye(p)\n",
    "    Prec = lil_matrix((p, p))  # Using LIL format for efficient assignments\n",
    "    Z = get_precision_nonzero(Graph, markov_order)\n",
    "    prec_mat_triplet = []\n",
    "\n",
    "    for j in range(p):\n",
    "        print(\"j\", j)\n",
    "        Bi = create_bi(Z, j).tocsc()  # Ensure CSC for matrix multiplication\n",
    "        xbi = X @ Bi\n",
    "\n",
    "        cov_ml_est = np.cov(xbi, rowvar=False)\n",
    "        \n",
    "        wi1 = pinv(cov_ml_est) @ (Bi.T @ Ip[:, j])\n",
    "        print(f\"wi1:\\n {wi1}\")\n",
    "\n",
    "        rows, cols = Bi.nonzero()\n",
    "        for i, k in zip(rows, cols):\n",
    "            print(\"triplet: \", (i, j, wi1[k]))\n",
    "            prec_mat_triplet.append((i, j, wi1[k]))\n",
    "\n",
    "\n",
    "    # Assign triplets to Prec\n",
    "    for triplet in prec_mat_triplet:\n",
    "        #print(triplet)\n",
    "        i, j, value = triplet\n",
    "        Prec[i, j] = value\n",
    "\n",
    "    Prec = Prec.tocsr()  # Convert to CSR for final operations\n",
    "    #if symmetrization:\n",
    "    #    Prec = ensure_symmetry(Prec)\n",
    "\n",
    "    return Prec\n"
   ]
  },
  {
   "cell_type": "code",
   "execution_count": 765,
   "id": "a30977ca-5835-4ab9-9113-888581822e7a",
   "metadata": {},
   "outputs": [
    {
     "name": "stdout",
     "output_type": "stream",
     "text": [
      "j 0\n",
      "Bi shape:  (5, 2)\n",
      "wi1:\n",
      " [ 1.012 -1.024]\n",
      "triplet:  (0, 0, 1.012067189777637)\n",
      "triplet:  (1, 0, -1.0235471621751755)\n",
      "j 1\n",
      "Bi shape:  (5, 3)\n",
      "wi1:\n",
      " [-1.168  2.391 -1.184]\n",
      "triplet:  (0, 1, -1.1679718263980383)\n",
      "triplet:  (1, 1, 2.3908144057812097)\n",
      "triplet:  (2, 1, -1.1835808189455963)\n",
      "j 2\n",
      "Bi shape:  (5, 3)\n",
      "wi1:\n",
      " [-1.07   2.144 -1.102]\n",
      "triplet:  (1, 2, -1.0699926491564926)\n",
      "triplet:  (2, 2, 2.1438801354189314)\n",
      "triplet:  (3, 2, -1.101632970481294)\n",
      "j 3\n",
      "Bi shape:  (5, 3)\n",
      "wi1:\n",
      " [-1.093  1.974 -0.879]\n",
      "triplet:  (2, 3, -1.0933198372138784)\n",
      "triplet:  (3, 3, 1.973651911716129)\n",
      "triplet:  (4, 3, -0.8787239372063212)\n",
      "j 4\n",
      "Bi shape:  (5, 2)\n",
      "wi1:\n",
      " [-0.854  0.879]\n",
      "triplet:  (3, 4, -0.8539619074680093)\n",
      "triplet:  (4, 4, 0.8789407969891847)\n",
      "Estimated Precision Matrix:\n",
      " [[ 1.012 -1.168  0.     0.     0.   ]\n",
      " [-1.024  2.391 -1.07   0.     0.   ]\n",
      " [ 0.    -1.184  2.144 -1.093  0.   ]\n",
      " [ 0.     0.    -1.102  1.974 -0.854]\n",
      " [ 0.     0.     0.    -0.879  0.879]]\n"
     ]
    }
   ],
   "source": [
    "# Example usage:\n",
    "X = U.copy()\n",
    "from graphite_maps.precision_estimation import graph_to_precision_matrix\n",
    "Graph_mat = graph_to_precision_matrix(Graph_u)\n",
    "Graph_mat.data[:] = 1.0\n",
    "precision_matrix = prec_sparse(X, Graph_mat)\n",
    "print(\"Estimated Precision Matrix:\\n\", precision_matrix.toarray())\n"
   ]
  },
  {
   "cell_type": "code",
   "execution_count": 766,
   "id": "3bc87246-8160-47d4-ae5b-2c5d345bee29",
   "metadata": {},
   "outputs": [
    {
     "data": {
      "text/plain": [
       "array([[49.132, 47.604, 47.675, 46.543, 45.221],\n",
       "       [41.717, 41.249, 41.311, 40.33 , 39.184],\n",
       "       [46.215, 45.696, 46.701, 45.592, 44.297],\n",
       "       [45.461, 44.951, 45.939, 45.742, 44.442],\n",
       "       [45.45 , 44.94 , 45.928, 45.73 , 45.568]])"
      ]
     },
     "execution_count": 766,
     "metadata": {},
     "output_type": "execute_result"
    }
   ],
   "source": [
    "np.linalg.inv(precision_matrix.A)"
   ]
  },
  {
   "cell_type": "code",
   "execution_count": 767,
   "id": "7e9147cc-e313-4d97-97e1-15b048020368",
   "metadata": {},
   "outputs": [
    {
     "data": {
      "text/plain": [
       "array([[ 1.  , -0.99,  0.  ,  0.  ,  0.  ],\n",
       "       [-0.99,  1.98, -0.99,  0.  ,  0.  ],\n",
       "       [ 0.  , -0.99,  1.98, -0.99,  0.  ],\n",
       "       [ 0.  ,  0.  , -0.99,  1.98, -0.99],\n",
       "       [ 0.  ,  0.  ,  0.  , -0.99,  1.  ]])"
      ]
     },
     "execution_count": 767,
     "metadata": {},
     "output_type": "execute_result"
    }
   ],
   "source": [
    "prec.A"
   ]
  },
  {
   "cell_type": "code",
   "execution_count": 768,
   "id": "f84813fb-090d-4b20-aa67-37cbe14aafa0",
   "metadata": {},
   "outputs": [
    {
     "data": {
      "text/plain": [
       "array([[50.251, 49.749, 49.251, 48.759, 48.271],\n",
       "       [49.749, 50.251, 49.749, 49.251, 48.759],\n",
       "       [49.251, 49.749, 50.251, 49.749, 49.251],\n",
       "       [48.759, 49.251, 49.749, 50.251, 49.749],\n",
       "       [48.271, 48.759, 49.251, 49.749, 50.251]])"
      ]
     },
     "execution_count": 768,
     "metadata": {},
     "output_type": "execute_result"
    }
   ],
   "source": [
    "np.linalg.inv(prec.A)"
   ]
  },
  {
   "cell_type": "code",
   "execution_count": null,
   "id": "056c6d89-e281-4777-a1ad-1c4d164003d4",
   "metadata": {},
   "outputs": [],
   "source": []
  },
  {
   "cell_type": "code",
   "execution_count": null,
   "id": "a2a9823b-87d0-4ab2-9d2c-21014f71c151",
   "metadata": {},
   "outputs": [],
   "source": []
  }
 ],
 "metadata": {
  "kernelspec": {
   "display_name": "Python 3 (ipykernel)",
   "language": "python",
   "name": "python3"
  },
  "language_info": {
   "codemirror_mode": {
    "name": "ipython",
    "version": 3
   },
   "file_extension": ".py",
   "mimetype": "text/x-python",
   "name": "python",
   "nbconvert_exporter": "python",
   "pygments_lexer": "ipython3",
   "version": "3.11.7"
  }
 },
 "nbformat": 4,
 "nbformat_minor": 5
}
