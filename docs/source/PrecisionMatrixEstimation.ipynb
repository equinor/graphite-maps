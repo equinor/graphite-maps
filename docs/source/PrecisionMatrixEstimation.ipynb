{
 "cells": [
  {
   "cell_type": "code",
   "execution_count": 13,
   "id": "c93b8cf3-3476-4e6d-9cc4-88bc045f71b1",
   "metadata": {},
   "outputs": [],
   "source": [
    "import numpy as np\n",
    "np.set_printoptions(precision=3, suppress=True)\n",
    "import scipy as sp\n",
    "from scipy.stats import norm\n",
    "from graphite_maps.precision_estimation import fit_precision_cholesky, precision_to_graph"
   ]
  },
  {
   "cell_type": "markdown",
   "id": "7d8bb185-854a-4dc5-b8a3-886aa165f5c6",
   "metadata": {},
   "source": [
    "Set up a simple AR-1 example to test `graphite_maps` functionality.\n",
    "$$u_t = \\phi u_{t-1} + \\epsilon,~~\n",
    " \\epsilon\\sim N(0,1) $$"
   ]
  },
  {
   "cell_type": "code",
   "execution_count": 14,
   "id": "a803c5de-115c-416f-b074-3bef0d8ec96f",
   "metadata": {},
   "outputs": [],
   "source": [
    "# Define parameters\n",
    "n = 1000  # Sample size\n",
    "p = 10   # Dimension\n",
    "phi = 0.6"
   ]
  },
  {
   "cell_type": "code",
   "execution_count": 15,
   "id": "2453f73c-781a-49bc-a38b-e6bfa8cf3b63",
   "metadata": {},
   "outputs": [],
   "source": [
    "# Simulate data\n",
    "def rar1(T, phi):\n",
    "    \"\"\"simulate auto-regressive-1.\n",
    "    The first element is simulated from stationary distribution.\n",
    "    \"\"\"\n",
    "    x = np.empty([T])\n",
    "    x[0] = np.random.normal(0, 1 / np.sqrt(1 - phi**2))\n",
    "    for i in range(1, T):\n",
    "        x[i] = phi * x[i - 1] + np.random.normal(0, 1)\n",
    "    return x\n",
    "\n",
    "np.random.seed(42)\n",
    "U = np.array([rar1(T=p, phi=phi) for _ in range(n)])"
   ]
  },
  {
   "cell_type": "markdown",
   "id": "e14a705e-9d5e-4882-86b7-de8ca2e963da",
   "metadata": {},
   "source": [
    "We need the graph of conditional independence in $u$, \n",
    "thus create precision (which is conceptually unknown) and find graph from this (conceptually already known)."
   ]
  },
  {
   "cell_type": "code",
   "execution_count": 16,
   "id": "ceef428d-53da-4138-88bd-a9ee8bd74745",
   "metadata": {},
   "outputs": [],
   "source": [
    "# create AR-1 precision matrix\n",
    "prec = sp.sparse.diags(\n",
    "    [np.repeat(-phi, p-1), np.concatenate(([1.0], np.repeat(1.0+phi**2, p-2), [1.0])), np.repeat(-phi, p-1)], \n",
    "    [-1,0,1], shape=(p, p), \n",
    "    format='csc'\n",
    ")\n",
    "\n",
    "Graph_u = precision_to_graph(prec)"
   ]
  },
  {
   "cell_type": "markdown",
   "id": "64ed36a6-148f-4ef2-9284-0085aef2df77",
   "metadata": {},
   "source": [
    "Now use `graphite_maps` to estimate the precision w.r.t. $G_u$"
   ]
  },
  {
   "cell_type": "code",
   "execution_count": 17,
   "id": "6c483967-b0eb-4786-bc89-3c879fc10d8c",
   "metadata": {},
   "outputs": [
    {
     "name": "stdout",
     "output_type": "stream",
     "text": [
      "max degree of graph is: 4\n",
      "Permutation optimization took 7.677078247070312e-05 seconds\n",
      "Parameters in precision: 19\n",
      "Parameters in Cholesky factor: 22\n",
      "Starting statistical fitting of precision\n"
     ]
    },
    {
     "name": "stderr",
     "output_type": "stream",
     "text": [
      "Learning precision Cholesky factor row-by-row: 100%|██████████████████████████████████████████████████████████████████████████████████████████████████████████████████████████████| 10/10 [00:00<00:00, 1627.91it/s]"
     ]
    },
    {
     "name": "stdout",
     "output_type": "stream",
     "text": [
      "Precision has log-determinant: -0.5068298249056394\n"
     ]
    },
    {
     "name": "stderr",
     "output_type": "stream",
     "text": [
      "\n"
     ]
    }
   ],
   "source": [
    "prec_est = fit_precision_cholesky(U, Graph_u, verbose_level=2)"
   ]
  },
  {
   "cell_type": "markdown",
   "id": "1ff4a132-0339-4bb2-8720-d4df39874bcb",
   "metadata": {},
   "source": [
    "Inspect that the result seem to converge (no values should be too large here)."
   ]
  },
  {
   "cell_type": "code",
   "execution_count": 18,
   "id": "4a9d345b-dd19-4132-873e-cdc36e6af335",
   "metadata": {},
   "outputs": [
    {
     "name": "stdout",
     "output_type": "stream",
     "text": [
      "[[-0.004  0.009  0.     0.     0.     0.     0.     0.     0.     0.   ]\n",
      " [ 0.009 -0.005 -0.033  0.     0.     0.     0.     0.     0.     0.   ]\n",
      " [ 0.    -0.033  0.032 -0.008  0.    -0.001  0.     0.     0.     0.   ]\n",
      " [ 0.     0.    -0.008  0.005  0.024  0.009  0.     0.     0.     0.   ]\n",
      " [ 0.     0.     0.     0.024 -0.054  0.046  0.     0.     0.     0.   ]\n",
      " [ 0.     0.    -0.001  0.009  0.046 -0.148  0.102 -0.035  0.     0.   ]\n",
      " [ 0.     0.     0.     0.     0.     0.102 -0.13   0.081  0.     0.   ]\n",
      " [ 0.     0.     0.     0.     0.    -0.035  0.081 -0.047 -0.017  0.   ]\n",
      " [ 0.     0.     0.     0.     0.     0.     0.    -0.017  0.063 -0.066]\n",
      " [ 0.     0.     0.     0.     0.     0.     0.     0.    -0.066  0.117]]\n",
      "0.14766798918193835\n"
     ]
    }
   ],
   "source": [
    "print(prec_est.A - prec.A)\n",
    "print(np.max(np.abs(prec_est-prec)))"
   ]
  },
  {
   "cell_type": "code",
   "execution_count": 19,
   "id": "c83ed769-29d6-48d4-9535-2c605086dada",
   "metadata": {},
   "outputs": [
    {
     "name": "stdout",
     "output_type": "stream",
     "text": [
      "[[ 0.014  0.026  0.028  0.011  0.002 -0.003 -0.008 -0.003 -0.002 -0.001]\n",
      " [ 0.026  0.061  0.057  0.024  0.006 -0.002 -0.012 -0.005 -0.003 -0.002]\n",
      " [ 0.028  0.057  0.016 -0.006 -0.017 -0.02  -0.029 -0.014 -0.008 -0.005]\n",
      " [ 0.011  0.024 -0.006 -0.043 -0.049 -0.046 -0.055 -0.027 -0.016 -0.01 ]\n",
      " [ 0.002  0.006 -0.017 -0.049 -0.017 -0.023 -0.062 -0.027 -0.016 -0.01 ]\n",
      " [-0.003 -0.002 -0.02  -0.046 -0.023  0.056 -0.051 -0.013 -0.007 -0.006]\n",
      " [-0.008 -0.012 -0.029 -0.055 -0.062 -0.051 -0.018 -0.053 -0.031 -0.021]\n",
      " [-0.003 -0.005 -0.014 -0.027 -0.027 -0.013 -0.053  0.007  0.006  0.   ]\n",
      " [-0.002 -0.003 -0.008 -0.016 -0.016 -0.007 -0.031  0.006 -0.02  -0.018]\n",
      " [-0.001 -0.002 -0.005 -0.01  -0.01  -0.006 -0.021  0.    -0.018 -0.119]]\n",
      "0.11894178413129408\n"
     ]
    }
   ],
   "source": [
    "print(np.linalg.inv(prec_est.A) - np.linalg.inv(prec.A))\n",
    "print(np.max(np.abs(np.linalg.inv(prec_est.A)-np.linalg.inv(prec.A))))"
   ]
  }
 ],
 "metadata": {
  "kernelspec": {
   "display_name": "Python 3 (ipykernel)",
   "language": "python",
   "name": "python3"
  },
  "language_info": {
   "codemirror_mode": {
    "name": "ipython",
    "version": 3
   },
   "file_extension": ".py",
   "mimetype": "text/x-python",
   "name": "python",
   "nbconvert_exporter": "python",
   "pygments_lexer": "ipython3",
   "version": "3.11.7"
  }
 },
 "nbformat": 4,
 "nbformat_minor": 5
}
