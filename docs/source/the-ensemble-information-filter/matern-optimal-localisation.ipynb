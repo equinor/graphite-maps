{
 "cells": [
  {
   "cell_type": "markdown",
   "id": "2d960cf8-ad62-4d6e-a5bb-58e4734777a9",
   "metadata": {},
   "source": [
    "# 1D Matern optimal localisation\n",
    "\n",
    "The Matern process is given by the SPDE\n",
    "$$\n",
    "(\\kappa^2 - \\Delta)^\\alpha X_t = \\mathcal{W}\n",
    "$$\n",
    "We will consider the 1D version with $\\alpha=1.0$."
   ]
  },
  {
   "cell_type": "code",
   "execution_count": 1,
   "id": "29bc6f5b-97bc-4bc0-9dda-bb037a517de7",
   "metadata": {},
   "outputs": [],
   "source": [
    "import numpy as np\n",
    "import scipy as sp\n",
    "from scipy.stats import norm\n",
    "import matplotlib.pyplot as plt\n",
    "from scipy.linalg import cho_factor, cho_solve, solve_triangular\n",
    "import networkx as nx\n",
    "from graphite_maps.precision_estimation import fit_precision_cholesky, precision_to_graph"
   ]
  },
  {
   "cell_type": "markdown",
   "id": "14d41c5b-a598-4552-8df5-b4d5b6c51466",
   "metadata": {},
   "source": [
    "We will measure the KLD between the true distribution to the Matern process, $P$, and estimated distributions in EnIF and covarianse-localised EnKFs"
   ]
  },
  {
   "cell_type": "code",
   "execution_count": 61,
   "id": "2aa43bcc-9261-447a-9d64-266cd85174fd",
   "metadata": {},
   "outputs": [],
   "source": [
    "def logdet_cholesky(A):\n",
    "    L = cho_factor(A, lower=True)[0]\n",
    "    logdet = 2 * np.sum(np.log(np.diag(L)))\n",
    "    return logdet\n",
    "\n",
    "def kldiv_mvn_cholesky(mu1, Sigma1, mu2, Sigma2):\n",
    "    \"\"\"\n",
    "    Compute the Kullback-Leibler divergence between two multivariate normal distributions\n",
    "    using Cholesky decomposition for numerically stable log-determinant computation.\n",
    "\n",
    "    See https://statproofbook.github.io/P/mvn-kl.html for MVN KLD computation.\n",
    "    \n",
    "    Parameters:\n",
    "    - mu1: Mean vector of the first distribution (numpy array)\n",
    "    - Sigma1: Covariance matrix of the first distribution (numpy array)\n",
    "    - mu2: Mean vector of the second distribution (numpy array)\n",
    "    - Sigma2: Covariance matrix of the second distribution (numpy array)\n",
    "    \n",
    "    Returns:\n",
    "    - KLD: The Kullback-Leibler divergence (scalar)\n",
    "    \"\"\"\n",
    "    \n",
    "    # Difference in means\n",
    "    diff_mu = mu2 - mu1\n",
    "    \n",
    "    # Inverse of Sigma2 using Cholesky decomposition\n",
    "    Sigma2_chol = cho_factor(Sigma2, lower=True)\n",
    "    Sigma2_inv_mu_diff = cho_solve(Sigma2_chol, diff_mu)\n",
    "    \n",
    "    # Mahalanobis distance between the means\n",
    "    mahalanobis_term = np.dot(diff_mu.T, Sigma2_inv_mu_diff)\n",
    "    \n",
    "    # Trace of Sigma2_inv * Sigma1\n",
    "    Sigma2_inv_Sigma1 = cho_solve(Sigma2_chol, Sigma1)\n",
    "    tr_term = np.trace(Sigma2_inv_Sigma1)\n",
    "    \n",
    "    # Log determinant terms using Cholesky-based logdet calculation\n",
    "    logdet_Sigma1 = logdet_cholesky(Sigma1)\n",
    "    logdet_Sigma2 = logdet_cholesky(Sigma2)\n",
    "    \n",
    "    # Dimensionality of the mean vectors\n",
    "    d = len(mu1)\n",
    "    \n",
    "    # Final KLD formula\n",
    "    kld = 0.5 * (mahalanobis_term + tr_term - logdet_Sigma1 + logdet_Sigma2 - d)\n",
    "    \n",
    "    return kld\n"
   ]
  },
  {
   "cell_type": "markdown",
   "id": "a71316de-845a-47eb-b6fa-f8f13e8b5f3e",
   "metadata": {},
   "source": [
    "The solution to the Matern SPDE is multivariate Gaussian"
   ]
  },
  {
   "cell_type": "code",
   "execution_count": 62,
   "id": "ea990685-c76b-49ec-a093-54516b522b1a",
   "metadata": {},
   "outputs": [],
   "source": [
    "# Correct covariance function for Matern SPDE with exponent 1/2\n",
    "def cov_stationary(h):\n",
    "    # ou: dx = alpha(beta - x)dt + sigma dW_t -- dx = -\\alpha x dt + dW\n",
    "    # matern: (kappa**2 - Delta)**(1/2) x = W -- (1.0**2 - Delta)**(1/2) x = W\n",
    "    # sigma_matern = sigma_ou / (2 * alpha_ou)\n",
    "    # kappa_matern = alpha_ou^{-1} = 1.0\n",
    "    return np.exp(-np.abs(h)) / 2.0\n",
    "\n",
    "def cov_matrix_matern(grid):\n",
    "    p = len(grid)\n",
    "    cov_matrix = np.zeros((p,p))\n",
    "    for i in range(p):\n",
    "        for j in range(p):\n",
    "            cov_matrix[i,j] = cov_stationary(grid[j] - grid[i])\n",
    "    return cov_matrix\n",
    "\n",
    "def P_analytical(grid):\n",
    "    p = len(grid)\n",
    "    mu = np.zeros(p)\n",
    "    cov = cov_matrix_matern(grid)\n",
    "    return mu, cov"
   ]
  },
  {
   "cell_type": "markdown",
   "id": "42777c18-fd93-409b-94b6-06c8928e43b5",
   "metadata": {},
   "source": [
    "We employ covarianse localisation with a Gaussian kernel"
   ]
  },
  {
   "cell_type": "code",
   "execution_count": 63,
   "id": "c0aa56ce-4ead-4a33-adf1-36e1a276c8b0",
   "metadata": {},
   "outputs": [],
   "source": [
    "def covariance_localisation(grid, radius_of_influence=1.0):\n",
    "    \"\"\"\n",
    "    Computes the covariance matrix k(s,t) = exp(-nu * (s - t)^2) \n",
    "    for all combinations of s, t in the given grid.\n",
    "\n",
    "    Parameters:\n",
    "    - grid: 1D numpy array or list of points.\n",
    "    - radius_of_influence: The scaling parameter controlling the spread of the covariance (default is 1.0).\n",
    "\n",
    "    Returns:\n",
    "    - localisation_factors: The localisation factors (2D numpy array) of shape (len(grid), len(grid)).\n",
    "    \"\"\"\n",
    "    grid = np.array(grid)\n",
    "    diff_matrix = grid[:, None] - grid[None, :]\n",
    "    localisation_factors = np.exp(-radius_of_influence * diff_matrix**2)\n",
    "    return localisation_factors"
   ]
  },
  {
   "cell_type": "markdown",
   "id": "3565877b-9b84-41d3-b2e4-6322bd95fbc4",
   "metadata": {},
   "source": [
    "We will compare EnIF and localised EnKF"
   ]
  },
  {
   "cell_type": "code",
   "execution_count": 64,
   "id": "ccb3e82b-1efb-4cb3-ab2e-17192beb25ac",
   "metadata": {},
   "outputs": [],
   "source": [
    "def Q_ensemble_smoother(U):\n",
    "    mu = U.mean(axis=0)\n",
    "    cov_sample = np.cov(U,rowvar=False)\n",
    "    return mu, cov_sample\n",
    "\n",
    "def Q_localised_ensemble_smoother(U, grid, radius_of_influence):\n",
    "    mu, cov_sample = Q_ensemble_smoother(U)\n",
    "    localisation = covariance_localisation(grid, radius_of_influence)\n",
    "    localised_cov = localisation * cov_sample\n",
    "    return mu, localised_cov\n",
    "\n",
    "def create_ar_graph(p):\n",
    "    G = nx.Graph()\n",
    "    # vertices\n",
    "    for i in range(p):\n",
    "        # edges\n",
    "        G.add_node(i)\n",
    "        # vertices\n",
    "        for j in range(i+1, min(i + 1 + 1, p)):\n",
    "            G.add_edge(i, j)\n",
    "    return G\n",
    "\n",
    "def Q_ensemble_information_filter(U, G):\n",
    "    mu = U.mean(axis=0)\n",
    "    prec_est, Graph_C, perm_compose, P_rev, P_order = fit_precision_cholesky(U, G, verbose_level=0, lambda_l2 = 0.0)\n",
    "    cov = np.linalg.inv(prec_est.A)\n",
    "    return mu, cov"
   ]
  },
  {
   "cell_type": "markdown",
   "id": "51ee7e42-ef0f-414b-8bec-88412d0fbf3c",
   "metadata": {},
   "source": [
    "We iterate through different values of radius of influence"
   ]
  },
  {
   "cell_type": "code",
   "execution_count": 66,
   "id": "8f9cdb82-dfed-4b6d-9473-542e0c99ccbd",
   "metadata": {},
   "outputs": [
    {
     "name": "stderr",
     "output_type": "stream",
     "text": [
      "Learning precision Cholesky factor row-by-row: 100%|████████████████████████████████████████████████████████████████████████████████████████████████████████████████████████████| 400/400 [00:00<00:00, 1240.78it/s]\n"
     ]
    }
   ],
   "source": [
    "n_radi = 30\n",
    "radi = np.exp(np.linspace(-10, np.log(100000), num=n_radi))\n",
    "kld_localised_es = np.zeros(n_radi)\n",
    "\n",
    "# Fix resolution\n",
    "p = 400 # max in resolution experiment\n",
    "T = 10\n",
    "dt = T / p\n",
    "time = np.arange(0, T, dt)\n",
    "\n",
    "# the true process\n",
    "n = 1000\n",
    "mu_true, cov_true = P_analytical(time)\n",
    "U = np.random.multivariate_normal(mu_true, cov_true, size=n)\n",
    "\n",
    "# The enif solution\n",
    "G_u = create_ar_graph(p)\n",
    "mu_enif, cov_enif = Q_ensemble_information_filter(U, G_u)\n",
    "kld_enif = kldiv_mvn_cholesky(mu_true, cov_true, mu_enif, cov_enif)\n",
    "\n",
    "for i, radius in enumerate(radi):\n",
    "    mu_local_es, cov_local_es = Q_localised_ensemble_smoother(U, time, radius)\n",
    "    kld_localised_es[i] = kldiv_mvn_cholesky(mu_true, cov_true, mu_local_es, cov_local_es)"
   ]
  },
  {
   "cell_type": "code",
   "execution_count": 67,
   "id": "45daf625-059a-42f2-b4ee-d2aae00c49cd",
   "metadata": {},
   "outputs": [
    {
     "data": {
      "image/png": "[encoded data removed]",
      "text/plain": [
       "<Figure size 700x300 with 1 Axes>"
      ]
     },
     "metadata": {},
     "output_type": "display_data"
    }
   ],
   "source": [
    "plt.figure(figsize=(7, 3))\n",
    "\n",
    "# Plot KLD vs radi on a log x-axis\n",
    "plt.plot(radi, kld_localised_es, label='Localised ES', marker='o')\n",
    "\n",
    "# Set x-axis to be logarithmic\n",
    "plt.xscale('log')\n",
    "plt.yscale(\"log\")\n",
    "\n",
    "# Add a horizontal line at kld_enif\n",
    "plt.axhline(y=kld_enif, color='r', linestyle='--', label=f'EnIF')\n",
    "\n",
    "# Add labels and legend\n",
    "plt.xlabel('Radius')\n",
    "plt.ylabel('KLD')\n",
    "plt.title('KLD vs. Localisation radius')\n",
    "plt.legend()\n",
    "\n",
    "if True:\n",
    "    plt.savefig(\"kld_vs_localisation_radius.pdf\", format='pdf', bbox_inches='tight')\n",
    "\n",
    "plt.show()\n",
    "plt.close()"
   ]
  },
  {
   "cell_type": "code",
   "execution_count": null,
   "id": "249fd380-1ffd-48ad-8ad8-38f024370b74",
   "metadata": {},
   "outputs": [],
   "source": []
  }
 ],
 "metadata": {
  "kernelspec": {
   "display_name": "Python 3 (ipykernel)",
   "language": "python",
   "name": "python3"
  },
  "language_info": {
   "codemirror_mode": {
    "name": "ipython",
    "version": 3
   },
   "file_extension": ".py",
   "mimetype": "text/x-python",
   "name": "python",
   "nbconvert_exporter": "python",
   "pygments_lexer": "ipython3",
   "version": "3.11.9"
  }
 },
 "nbformat": 4,
 "nbformat_minor": 5
}
